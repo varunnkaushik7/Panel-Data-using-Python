{
 "cells": [
  {
   "cell_type": "markdown",
   "id": "015361b3",
   "metadata": {},
   "source": [
    "# 📊 Exploratory Data Analysis (EDA) on our Dataset\n",
    "\n",
    "This notebook is designed for learning **Exploratory Data Analysis (EDA)** using Python. \n",
    "We'll work with a sample dataset and cover step-by-step data exploration and cleaning.\n",
    "\n",
    "### Goals of EDA:\n",
    "- Understand the structure of the data\n",
    "- Handle missing values\n",
    "- Remove duplicates and outliers\n",
    "- Rename columns for clarity\n",
    "- Visualize patterns using plots\n",
    "\n",
    "Let's get started!\n"
   ]
  },
  {
   "cell_type": "markdown",
   "id": "a5604638",
   "metadata": {},
   "source": [
    "## 📦 Step 1: Import Required Libraries"
   ]
  },
  {
   "cell_type": "code",
   "execution_count": 1,
   "id": "a26b2a1d",
   "metadata": {},
   "outputs": [],
   "source": [
    "# Import pandas for data manipulation and analysis.\n",
    "# Pandas provides data structures like DataFrame and Series, which are essential for handling structured data.\n",
    "import pandas as pd\n",
    "\n",
    "# Import NumPy for numerical operations.\n",
    "# NumPy provides support for large, multi-dimensional arrays and matrices, \n",
    "# and other mathematical functions to operate on these arrays.\n",
    "import numpy as np\n",
    "\n",
    "# Import Seaborn for statistical data visualization.\n",
    "# Seaborn is built on top of Matplotlib and provides a high-level interface for drawing attractive \n",
    "# and informative statistical graphics.\n",
    "import seaborn as sns\n",
    "\n",
    "# Import Matplotlib's pyplot for plotting graphs and visualizations.\n",
    "# Pyplot provides a MATLAB-like interface for creating static, animated, and interactive visualizations in Python.\n",
    "import matplotlib.pyplot as plt"
   ]
  },
  {
   "cell_type": "markdown",
   "id": "16fa22e7",
   "metadata": {},
   "source": [
    "## 📥 Step 2: Load the Dataset"
   ]
  },
  {
   "cell_type": "code",
   "execution_count": 2,
   "id": "65c5917d",
   "metadata": {},
   "outputs": [
    {
     "name": "stdout",
     "output_type": "stream",
     "text": [
      "✅ Dataset loaded successfully!\n"
     ]
    }
   ],
   "source": [
    "# Use pandas to read the data from a CSV file named \"Day1_EDA_Dataset.csv\" and store it in a DataFrame called 'df'.\n",
    "df = pd.read_csv(\"Day1_EDA_Dataset.csv\")\n",
    "\n",
    "# Print a confirmation message to the console indicating that the dataset has been loaded.\n",
    "print(\"✅ Dataset loaded successfully!\")"
   ]
  },
  {
   "cell_type": "markdown",
   "id": "f81a15d1",
   "metadata": {},
   "source": [
    "## 👀 Step 3: Preview the Data"
   ]
  },
  {
   "cell_type": "code",
   "execution_count": 3,
   "id": "2845301c",
   "metadata": {},
   "outputs": [
    {
     "data": {
      "text/html": [
       "<div>\n",
       "<style scoped>\n",
       "    .dataframe tbody tr th:only-of-type {\n",
       "        vertical-align: middle;\n",
       "    }\n",
       "\n",
       "    .dataframe tbody tr th {\n",
       "        vertical-align: top;\n",
       "    }\n",
       "\n",
       "    .dataframe thead th {\n",
       "        text-align: right;\n",
       "    }\n",
       "</style>\n",
       "<table border=\"1\" class=\"dataframe\">\n",
       "  <thead>\n",
       "    <tr style=\"text-align: right;\">\n",
       "      <th></th>\n",
       "      <th>Company</th>\n",
       "      <th>Sector</th>\n",
       "      <th>Year</th>\n",
       "      <th>Revenue (Cr)</th>\n",
       "      <th>Net Profit (Cr)</th>\n",
       "      <th>EBITDA Margin (%)</th>\n",
       "      <th>Debt/Equity</th>\n",
       "      <th>EPS</th>\n",
       "      <th>P/E Ratio</th>\n",
       "      <th>Market Cap (Cr)</th>\n",
       "    </tr>\n",
       "  </thead>\n",
       "  <tbody>\n",
       "    <tr>\n",
       "      <th>0</th>\n",
       "      <td>SBI</td>\n",
       "      <td>Metals</td>\n",
       "      <td>2012</td>\n",
       "      <td>1501.77</td>\n",
       "      <td>150.50</td>\n",
       "      <td>17.13</td>\n",
       "      <td>0.83</td>\n",
       "      <td>36.41</td>\n",
       "      <td>8.94</td>\n",
       "      <td>22949.86</td>\n",
       "    </tr>\n",
       "    <tr>\n",
       "      <th>1</th>\n",
       "      <td>HDFC</td>\n",
       "      <td>IT</td>\n",
       "      <td>2020</td>\n",
       "      <td>1538.70</td>\n",
       "      <td>95.19</td>\n",
       "      <td>23.72</td>\n",
       "      <td>0.13</td>\n",
       "      <td>25.71</td>\n",
       "      <td>12.89</td>\n",
       "      <td>35776.30</td>\n",
       "    </tr>\n",
       "    <tr>\n",
       "      <th>2</th>\n",
       "      <td>Reliance</td>\n",
       "      <td>Metals</td>\n",
       "      <td>2018</td>\n",
       "      <td>869.85</td>\n",
       "      <td>190.89</td>\n",
       "      <td>20.64</td>\n",
       "      <td>0.90</td>\n",
       "      <td>21.45</td>\n",
       "      <td>27.20</td>\n",
       "      <td>21759.52</td>\n",
       "    </tr>\n",
       "    <tr>\n",
       "      <th>3</th>\n",
       "      <td>ICICI</td>\n",
       "      <td>Finance</td>\n",
       "      <td>2021</td>\n",
       "      <td>1695.86</td>\n",
       "      <td>131.22</td>\n",
       "      <td>18.20</td>\n",
       "      <td>0.59</td>\n",
       "      <td>48.21</td>\n",
       "      <td>29.94</td>\n",
       "      <td>52526.04</td>\n",
       "    </tr>\n",
       "    <tr>\n",
       "      <th>4</th>\n",
       "      <td>SBI</td>\n",
       "      <td>Automobile</td>\n",
       "      <td>2015</td>\n",
       "      <td>1413.00</td>\n",
       "      <td>135.88</td>\n",
       "      <td>20.24</td>\n",
       "      <td>-0.08</td>\n",
       "      <td>18.29</td>\n",
       "      <td>18.95</td>\n",
       "      <td>36764.07</td>\n",
       "    </tr>\n",
       "  </tbody>\n",
       "</table>\n",
       "</div>"
      ],
      "text/plain": [
       "    Company      Sector  Year  Revenue (Cr)  Net Profit (Cr)   \n",
       "0       SBI      Metals  2012       1501.77           150.50  \\\n",
       "1      HDFC          IT  2020       1538.70            95.19   \n",
       "2  Reliance      Metals  2018        869.85           190.89   \n",
       "3     ICICI     Finance  2021       1695.86           131.22   \n",
       "4       SBI  Automobile  2015       1413.00           135.88   \n",
       "\n",
       "   EBITDA Margin (%)  Debt/Equity    EPS  P/E Ratio  Market Cap (Cr)  \n",
       "0              17.13         0.83  36.41       8.94         22949.86  \n",
       "1              23.72         0.13  25.71      12.89         35776.30  \n",
       "2              20.64         0.90  21.45      27.20         21759.52  \n",
       "3              18.20         0.59  48.21      29.94         52526.04  \n",
       "4              20.24        -0.08  18.29      18.95         36764.07  "
      ]
     },
     "execution_count": 3,
     "metadata": {},
     "output_type": "execute_result"
    }
   ],
   "source": [
    "df.head()  # Top 5 rows"
   ]
  },
  {
   "cell_type": "code",
   "execution_count": null,
   "id": "fd8026f9",
   "metadata": {},
   "outputs": [],
   "source": [
    "df.tail()  # Bottom 5 rows"
   ]
  },
  {
   "cell_type": "markdown",
   "id": "03ef86f0",
   "metadata": {},
   "source": [
    "## 🧾 Step 4: Understand the Data Structure"
   ]
  },
  {
   "cell_type": "code",
   "execution_count": 4,
   "id": "18dd86aa",
   "metadata": {},
   "outputs": [
    {
     "data": {
      "text/plain": [
       "Company               object\n",
       "Sector                object\n",
       "Year                   int64\n",
       "Revenue (Cr)         float64\n",
       "Net Profit (Cr)      float64\n",
       "EBITDA Margin (%)    float64\n",
       "Debt/Equity          float64\n",
       "EPS                  float64\n",
       "P/E Ratio            float64\n",
       "Market Cap (Cr)      float64\n",
       "dtype: object"
      ]
     },
     "execution_count": 4,
     "metadata": {},
     "output_type": "execute_result"
    }
   ],
   "source": [
    "# Display the data types of each column in the DataFrame 'df'.\n",
    "# This helps in understanding the kind of data (e.g., integer, float, string/object) stored in each column.\n",
    "df.dtypes"
   ]
  },
  {
   "cell_type": "code",
   "execution_count": 5,
   "id": "0f1bc8cc",
   "metadata": {},
   "outputs": [
    {
     "name": "stdout",
     "output_type": "stream",
     "text": [
      "<class 'pandas.core.frame.DataFrame'>\n",
      "RangeIndex: 12300 entries, 0 to 12299\n",
      "Data columns (total 10 columns):\n",
      " #   Column             Non-Null Count  Dtype  \n",
      "---  ------             --------------  -----  \n",
      " 0   Company            12300 non-null  object \n",
      " 1   Sector             12300 non-null  object \n",
      " 2   Year               12300 non-null  int64  \n",
      " 3   Revenue (Cr)       12177 non-null  float64\n",
      " 4   Net Profit (Cr)    12177 non-null  float64\n",
      " 5   EBITDA Margin (%)  12177 non-null  float64\n",
      " 6   Debt/Equity        12300 non-null  float64\n",
      " 7   EPS                12300 non-null  float64\n",
      " 8   P/E Ratio          12300 non-null  float64\n",
      " 9   Market Cap (Cr)    12300 non-null  float64\n",
      "dtypes: float64(7), int64(1), object(2)\n",
      "memory usage: 961.1+ KB\n"
     ]
    }
   ],
   "source": [
    "# Display a concise summary of the DataFrame 'df'.\n",
    "# This includes the data type of each column, the number of non-null values, and memory usage.\n",
    "# It's very useful for getting a quick overview of the dataset's structure and completeness.\n",
    "df.info()"
   ]
  },
  {
   "cell_type": "code",
   "execution_count": 6,
   "id": "7d22f2d9",
   "metadata": {},
   "outputs": [
    {
     "data": {
      "text/html": [
       "<div>\n",
       "<style scoped>\n",
       "    .dataframe tbody tr th:only-of-type {\n",
       "        vertical-align: middle;\n",
       "    }\n",
       "\n",
       "    .dataframe tbody tr th {\n",
       "        vertical-align: top;\n",
       "    }\n",
       "\n",
       "    .dataframe thead th {\n",
       "        text-align: right;\n",
       "    }\n",
       "</style>\n",
       "<table border=\"1\" class=\"dataframe\">\n",
       "  <thead>\n",
       "    <tr style=\"text-align: right;\">\n",
       "      <th></th>\n",
       "      <th>Year</th>\n",
       "      <th>Revenue (Cr)</th>\n",
       "      <th>Net Profit (Cr)</th>\n",
       "      <th>EBITDA Margin (%)</th>\n",
       "      <th>Debt/Equity</th>\n",
       "      <th>EPS</th>\n",
       "      <th>P/E Ratio</th>\n",
       "      <th>Market Cap (Cr)</th>\n",
       "    </tr>\n",
       "  </thead>\n",
       "  <tbody>\n",
       "    <tr>\n",
       "      <th>count</th>\n",
       "      <td>12300.000000</td>\n",
       "      <td>12177.000000</td>\n",
       "      <td>12177.000000</td>\n",
       "      <td>12177.000000</td>\n",
       "      <td>12300.000000</td>\n",
       "      <td>12300.000000</td>\n",
       "      <td>12300.000000</td>\n",
       "      <td>12300.000000</td>\n",
       "    </tr>\n",
       "    <tr>\n",
       "      <th>mean</th>\n",
       "      <td>2016.577967</td>\n",
       "      <td>1496.686811</td>\n",
       "      <td>200.555809</td>\n",
       "      <td>17.962471</td>\n",
       "      <td>0.804061</td>\n",
       "      <td>24.928957</td>\n",
       "      <td>20.098406</td>\n",
       "      <td>29928.671302</td>\n",
       "    </tr>\n",
       "    <tr>\n",
       "      <th>std</th>\n",
       "      <td>4.001689</td>\n",
       "      <td>298.416643</td>\n",
       "      <td>79.985822</td>\n",
       "      <td>5.018631</td>\n",
       "      <td>0.299424</td>\n",
       "      <td>10.032887</td>\n",
       "      <td>7.000835</td>\n",
       "      <td>11991.468518</td>\n",
       "    </tr>\n",
       "    <tr>\n",
       "      <th>min</th>\n",
       "      <td>2010.000000</td>\n",
       "      <td>403.470000</td>\n",
       "      <td>-143.630000</td>\n",
       "      <td>0.890000</td>\n",
       "      <td>-0.450000</td>\n",
       "      <td>-19.630000</td>\n",
       "      <td>-3.990000</td>\n",
       "      <td>-14461.800000</td>\n",
       "    </tr>\n",
       "    <tr>\n",
       "      <th>25%</th>\n",
       "      <td>2013.000000</td>\n",
       "      <td>1290.070000</td>\n",
       "      <td>145.600000</td>\n",
       "      <td>14.630000</td>\n",
       "      <td>0.600000</td>\n",
       "      <td>18.220000</td>\n",
       "      <td>15.430000</td>\n",
       "      <td>21934.000000</td>\n",
       "    </tr>\n",
       "    <tr>\n",
       "      <th>50%</th>\n",
       "      <td>2017.000000</td>\n",
       "      <td>1498.430000</td>\n",
       "      <td>200.640000</td>\n",
       "      <td>17.990000</td>\n",
       "      <td>0.810000</td>\n",
       "      <td>24.860000</td>\n",
       "      <td>20.070000</td>\n",
       "      <td>29924.865000</td>\n",
       "    </tr>\n",
       "    <tr>\n",
       "      <th>75%</th>\n",
       "      <td>2020.000000</td>\n",
       "      <td>1701.600000</td>\n",
       "      <td>255.170000</td>\n",
       "      <td>21.350000</td>\n",
       "      <td>1.010000</td>\n",
       "      <td>31.642500</td>\n",
       "      <td>24.722500</td>\n",
       "      <td>38114.285000</td>\n",
       "    </tr>\n",
       "    <tr>\n",
       "      <th>max</th>\n",
       "      <td>2023.000000</td>\n",
       "      <td>2607.490000</td>\n",
       "      <td>498.230000</td>\n",
       "      <td>36.730000</td>\n",
       "      <td>1.850000</td>\n",
       "      <td>62.600000</td>\n",
       "      <td>46.810000</td>\n",
       "      <td>75194.160000</td>\n",
       "    </tr>\n",
       "  </tbody>\n",
       "</table>\n",
       "</div>"
      ],
      "text/plain": [
       "               Year  Revenue (Cr)  Net Profit (Cr)  EBITDA Margin (%)   \n",
       "count  12300.000000  12177.000000     12177.000000       12177.000000  \\\n",
       "mean    2016.577967   1496.686811       200.555809          17.962471   \n",
       "std        4.001689    298.416643        79.985822           5.018631   \n",
       "min     2010.000000    403.470000      -143.630000           0.890000   \n",
       "25%     2013.000000   1290.070000       145.600000          14.630000   \n",
       "50%     2017.000000   1498.430000       200.640000          17.990000   \n",
       "75%     2020.000000   1701.600000       255.170000          21.350000   \n",
       "max     2023.000000   2607.490000       498.230000          36.730000   \n",
       "\n",
       "        Debt/Equity           EPS     P/E Ratio  Market Cap (Cr)  \n",
       "count  12300.000000  12300.000000  12300.000000     12300.000000  \n",
       "mean       0.804061     24.928957     20.098406     29928.671302  \n",
       "std        0.299424     10.032887      7.000835     11991.468518  \n",
       "min       -0.450000    -19.630000     -3.990000    -14461.800000  \n",
       "25%        0.600000     18.220000     15.430000     21934.000000  \n",
       "50%        0.810000     24.860000     20.070000     29924.865000  \n",
       "75%        1.010000     31.642500     24.722500     38114.285000  \n",
       "max        1.850000     62.600000     46.810000     75194.160000  "
      ]
     },
     "execution_count": 6,
     "metadata": {},
     "output_type": "execute_result"
    }
   ],
   "source": [
    "df.describe()  # Summary of numeric columns"
   ]
  },
  {
   "cell_type": "code",
   "execution_count": null,
   "id": "47dbccff",
   "metadata": {},
   "outputs": [],
   "source": [
    "df.describe(include='all')  # Summary of all columns"
   ]
  },
  {
   "cell_type": "markdown",
   "id": "345f7441",
   "metadata": {},
   "source": [
    "## ✏️ Step 5: Rename Columns for Simplicity"
   ]
  },
  {
   "cell_type": "code",
   "execution_count": 7,
   "id": "1f2f0f06",
   "metadata": {},
   "outputs": [],
   "source": [
    "# Rename 'Revenue (Cr)' to 'Revenue_Cr'\n",
    "df = df.rename(columns={\"Revenue (Cr)\": \"Revenue_Cr\"})\n",
    "\n",
    "# Rename 'Net Profit (Cr)' to 'Net_Profit_Cr'\n",
    "df = df.rename(columns={\"Net Profit (Cr)\": \"Net_Profit_Cr\"})\n",
    "\n",
    "# Rename 'EBITDA Margin (%)' to 'EBITDA_Margin'\n",
    "df = df.rename(columns={\"EBITDA Margin (%)\": \"EBITDA_Margin\"})\n",
    "\n",
    "# Rename 'Debt/Equity' to 'Debt_Equity'\n",
    "df = df.rename(columns={\"Debt/Equity\": \"Debt_Equity\"})\n",
    "\n",
    "# Rename 'P/E Ratio' to 'PE_Ratio'\n",
    "df = df.rename(columns={\"P/E Ratio\": \"PE_Ratio\"})\n",
    "\n",
    "# Rename 'Market Cap (Cr)' to 'Market_Cap_Cr'\n",
    "df = df.rename(columns={\"Market Cap (Cr)\": \"Market_Cap_Cr\"})"
   ]
  },
  {
   "cell_type": "code",
   "execution_count": 8,
   "id": "239c3663",
   "metadata": {
    "scrolled": true
   },
   "outputs": [
    {
     "data": {
      "text/html": [
       "<div>\n",
       "<style scoped>\n",
       "    .dataframe tbody tr th:only-of-type {\n",
       "        vertical-align: middle;\n",
       "    }\n",
       "\n",
       "    .dataframe tbody tr th {\n",
       "        vertical-align: top;\n",
       "    }\n",
       "\n",
       "    .dataframe thead th {\n",
       "        text-align: right;\n",
       "    }\n",
       "</style>\n",
       "<table border=\"1\" class=\"dataframe\">\n",
       "  <thead>\n",
       "    <tr style=\"text-align: right;\">\n",
       "      <th></th>\n",
       "      <th>Company</th>\n",
       "      <th>Sector</th>\n",
       "      <th>Year</th>\n",
       "      <th>Revenue_Cr</th>\n",
       "      <th>Net_Profit_Cr</th>\n",
       "      <th>EBITDA_Margin</th>\n",
       "      <th>Debt_Equity</th>\n",
       "      <th>EPS</th>\n",
       "      <th>PE_Ratio</th>\n",
       "      <th>Market_Cap_Cr</th>\n",
       "    </tr>\n",
       "  </thead>\n",
       "  <tbody>\n",
       "    <tr>\n",
       "      <th>0</th>\n",
       "      <td>SBI</td>\n",
       "      <td>Metals</td>\n",
       "      <td>2012</td>\n",
       "      <td>1501.77</td>\n",
       "      <td>150.50</td>\n",
       "      <td>17.13</td>\n",
       "      <td>0.83</td>\n",
       "      <td>36.41</td>\n",
       "      <td>8.94</td>\n",
       "      <td>22949.86</td>\n",
       "    </tr>\n",
       "    <tr>\n",
       "      <th>1</th>\n",
       "      <td>HDFC</td>\n",
       "      <td>IT</td>\n",
       "      <td>2020</td>\n",
       "      <td>1538.70</td>\n",
       "      <td>95.19</td>\n",
       "      <td>23.72</td>\n",
       "      <td>0.13</td>\n",
       "      <td>25.71</td>\n",
       "      <td>12.89</td>\n",
       "      <td>35776.30</td>\n",
       "    </tr>\n",
       "    <tr>\n",
       "      <th>2</th>\n",
       "      <td>Reliance</td>\n",
       "      <td>Metals</td>\n",
       "      <td>2018</td>\n",
       "      <td>869.85</td>\n",
       "      <td>190.89</td>\n",
       "      <td>20.64</td>\n",
       "      <td>0.90</td>\n",
       "      <td>21.45</td>\n",
       "      <td>27.20</td>\n",
       "      <td>21759.52</td>\n",
       "    </tr>\n",
       "    <tr>\n",
       "      <th>3</th>\n",
       "      <td>ICICI</td>\n",
       "      <td>Finance</td>\n",
       "      <td>2021</td>\n",
       "      <td>1695.86</td>\n",
       "      <td>131.22</td>\n",
       "      <td>18.20</td>\n",
       "      <td>0.59</td>\n",
       "      <td>48.21</td>\n",
       "      <td>29.94</td>\n",
       "      <td>52526.04</td>\n",
       "    </tr>\n",
       "    <tr>\n",
       "      <th>4</th>\n",
       "      <td>SBI</td>\n",
       "      <td>Automobile</td>\n",
       "      <td>2015</td>\n",
       "      <td>1413.00</td>\n",
       "      <td>135.88</td>\n",
       "      <td>20.24</td>\n",
       "      <td>-0.08</td>\n",
       "      <td>18.29</td>\n",
       "      <td>18.95</td>\n",
       "      <td>36764.07</td>\n",
       "    </tr>\n",
       "  </tbody>\n",
       "</table>\n",
       "</div>"
      ],
      "text/plain": [
       "    Company      Sector  Year  Revenue_Cr  Net_Profit_Cr  EBITDA_Margin   \n",
       "0       SBI      Metals  2012     1501.77         150.50          17.13  \\\n",
       "1      HDFC          IT  2020     1538.70          95.19          23.72   \n",
       "2  Reliance      Metals  2018      869.85         190.89          20.64   \n",
       "3     ICICI     Finance  2021     1695.86         131.22          18.20   \n",
       "4       SBI  Automobile  2015     1413.00         135.88          20.24   \n",
       "\n",
       "   Debt_Equity    EPS  PE_Ratio  Market_Cap_Cr  \n",
       "0         0.83  36.41      8.94       22949.86  \n",
       "1         0.13  25.71     12.89       35776.30  \n",
       "2         0.90  21.45     27.20       21759.52  \n",
       "3         0.59  48.21     29.94       52526.04  \n",
       "4        -0.08  18.29     18.95       36764.07  "
      ]
     },
     "execution_count": 8,
     "metadata": {},
     "output_type": "execute_result"
    }
   ],
   "source": [
    "df.head()"
   ]
  },
  {
   "cell_type": "markdown",
   "id": "cf33c2ae",
   "metadata": {},
   "source": [
    "## 🧹 Step 6: Remove Duplicate Rows"
   ]
  },
  {
   "cell_type": "code",
   "execution_count": 9,
   "id": "35c98a6c",
   "metadata": {},
   "outputs": [
    {
     "data": {
      "text/plain": [
       "(12300, 10)"
      ]
     },
     "execution_count": 9,
     "metadata": {},
     "output_type": "execute_result"
    }
   ],
   "source": [
    "df.shape  # Shape before"
   ]
  },
  {
   "cell_type": "code",
   "execution_count": 10,
   "id": "728fea9b",
   "metadata": {},
   "outputs": [
    {
     "data": {
      "text/html": [
       "<div>\n",
       "<style scoped>\n",
       "    .dataframe tbody tr th:only-of-type {\n",
       "        vertical-align: middle;\n",
       "    }\n",
       "\n",
       "    .dataframe tbody tr th {\n",
       "        vertical-align: top;\n",
       "    }\n",
       "\n",
       "    .dataframe thead th {\n",
       "        text-align: right;\n",
       "    }\n",
       "</style>\n",
       "<table border=\"1\" class=\"dataframe\">\n",
       "  <thead>\n",
       "    <tr style=\"text-align: right;\">\n",
       "      <th></th>\n",
       "      <th>Company</th>\n",
       "      <th>Sector</th>\n",
       "      <th>Year</th>\n",
       "      <th>Revenue_Cr</th>\n",
       "      <th>Net_Profit_Cr</th>\n",
       "      <th>EBITDA_Margin</th>\n",
       "      <th>Debt_Equity</th>\n",
       "      <th>EPS</th>\n",
       "      <th>PE_Ratio</th>\n",
       "      <th>Market_Cap_Cr</th>\n",
       "    </tr>\n",
       "  </thead>\n",
       "  <tbody>\n",
       "    <tr>\n",
       "      <th>12000</th>\n",
       "      <td>Mahindra</td>\n",
       "      <td>Automobile</td>\n",
       "      <td>2022</td>\n",
       "      <td>1509.07</td>\n",
       "      <td>119.93</td>\n",
       "      <td>22.63</td>\n",
       "      <td>0.64</td>\n",
       "      <td>21.67</td>\n",
       "      <td>22.79</td>\n",
       "      <td>26252.56</td>\n",
       "    </tr>\n",
       "    <tr>\n",
       "      <th>12001</th>\n",
       "      <td>Axis Bank</td>\n",
       "      <td>Automobile</td>\n",
       "      <td>2013</td>\n",
       "      <td>1114.02</td>\n",
       "      <td>375.35</td>\n",
       "      <td>13.18</td>\n",
       "      <td>0.89</td>\n",
       "      <td>10.88</td>\n",
       "      <td>25.31</td>\n",
       "      <td>30838.24</td>\n",
       "    </tr>\n",
       "    <tr>\n",
       "      <th>12002</th>\n",
       "      <td>Mahindra</td>\n",
       "      <td>Metals</td>\n",
       "      <td>2013</td>\n",
       "      <td>1478.60</td>\n",
       "      <td>330.85</td>\n",
       "      <td>18.49</td>\n",
       "      <td>0.84</td>\n",
       "      <td>18.48</td>\n",
       "      <td>21.83</td>\n",
       "      <td>12828.11</td>\n",
       "    </tr>\n",
       "    <tr>\n",
       "      <th>12003</th>\n",
       "      <td>SBI</td>\n",
       "      <td>Metals</td>\n",
       "      <td>2014</td>\n",
       "      <td>1604.75</td>\n",
       "      <td>21.91</td>\n",
       "      <td>19.59</td>\n",
       "      <td>0.49</td>\n",
       "      <td>47.79</td>\n",
       "      <td>15.37</td>\n",
       "      <td>22544.58</td>\n",
       "    </tr>\n",
       "    <tr>\n",
       "      <th>12004</th>\n",
       "      <td>HDFC</td>\n",
       "      <td>Energy</td>\n",
       "      <td>2012</td>\n",
       "      <td>1709.24</td>\n",
       "      <td>237.40</td>\n",
       "      <td>28.95</td>\n",
       "      <td>1.48</td>\n",
       "      <td>21.60</td>\n",
       "      <td>19.68</td>\n",
       "      <td>14159.62</td>\n",
       "    </tr>\n",
       "    <tr>\n",
       "      <th>...</th>\n",
       "      <td>...</td>\n",
       "      <td>...</td>\n",
       "      <td>...</td>\n",
       "      <td>...</td>\n",
       "      <td>...</td>\n",
       "      <td>...</td>\n",
       "      <td>...</td>\n",
       "      <td>...</td>\n",
       "      <td>...</td>\n",
       "      <td>...</td>\n",
       "    </tr>\n",
       "    <tr>\n",
       "      <th>12295</th>\n",
       "      <td>SBI</td>\n",
       "      <td>Finance</td>\n",
       "      <td>2017</td>\n",
       "      <td>1536.47</td>\n",
       "      <td>287.05</td>\n",
       "      <td>19.50</td>\n",
       "      <td>0.92</td>\n",
       "      <td>33.02</td>\n",
       "      <td>21.69</td>\n",
       "      <td>24440.50</td>\n",
       "    </tr>\n",
       "    <tr>\n",
       "      <th>12296</th>\n",
       "      <td>ICICI</td>\n",
       "      <td>Metals</td>\n",
       "      <td>2023</td>\n",
       "      <td>2152.79</td>\n",
       "      <td>151.13</td>\n",
       "      <td>16.14</td>\n",
       "      <td>0.94</td>\n",
       "      <td>16.08</td>\n",
       "      <td>17.01</td>\n",
       "      <td>32621.99</td>\n",
       "    </tr>\n",
       "    <tr>\n",
       "      <th>12297</th>\n",
       "      <td>TCS</td>\n",
       "      <td>Finance</td>\n",
       "      <td>2022</td>\n",
       "      <td>1536.54</td>\n",
       "      <td>274.70</td>\n",
       "      <td>26.65</td>\n",
       "      <td>0.48</td>\n",
       "      <td>30.76</td>\n",
       "      <td>21.52</td>\n",
       "      <td>38818.52</td>\n",
       "    </tr>\n",
       "    <tr>\n",
       "      <th>12298</th>\n",
       "      <td>TCS</td>\n",
       "      <td>Automobile</td>\n",
       "      <td>2023</td>\n",
       "      <td>1172.08</td>\n",
       "      <td>139.65</td>\n",
       "      <td>21.63</td>\n",
       "      <td>0.76</td>\n",
       "      <td>13.02</td>\n",
       "      <td>25.53</td>\n",
       "      <td>31739.97</td>\n",
       "    </tr>\n",
       "    <tr>\n",
       "      <th>12299</th>\n",
       "      <td>SBI</td>\n",
       "      <td>Metals</td>\n",
       "      <td>2012</td>\n",
       "      <td>1501.77</td>\n",
       "      <td>150.50</td>\n",
       "      <td>17.13</td>\n",
       "      <td>0.83</td>\n",
       "      <td>36.41</td>\n",
       "      <td>8.94</td>\n",
       "      <td>22949.86</td>\n",
       "    </tr>\n",
       "  </tbody>\n",
       "</table>\n",
       "<p>286 rows × 10 columns</p>\n",
       "</div>"
      ],
      "text/plain": [
       "         Company      Sector  Year  Revenue_Cr  Net_Profit_Cr  EBITDA_Margin   \n",
       "12000   Mahindra  Automobile  2022     1509.07         119.93          22.63  \\\n",
       "12001  Axis Bank  Automobile  2013     1114.02         375.35          13.18   \n",
       "12002   Mahindra      Metals  2013     1478.60         330.85          18.49   \n",
       "12003        SBI      Metals  2014     1604.75          21.91          19.59   \n",
       "12004       HDFC      Energy  2012     1709.24         237.40          28.95   \n",
       "...          ...         ...   ...         ...            ...            ...   \n",
       "12295        SBI     Finance  2017     1536.47         287.05          19.50   \n",
       "12296      ICICI      Metals  2023     2152.79         151.13          16.14   \n",
       "12297        TCS     Finance  2022     1536.54         274.70          26.65   \n",
       "12298        TCS  Automobile  2023     1172.08         139.65          21.63   \n",
       "12299        SBI      Metals  2012     1501.77         150.50          17.13   \n",
       "\n",
       "       Debt_Equity    EPS  PE_Ratio  Market_Cap_Cr  \n",
       "12000         0.64  21.67     22.79       26252.56  \n",
       "12001         0.89  10.88     25.31       30838.24  \n",
       "12002         0.84  18.48     21.83       12828.11  \n",
       "12003         0.49  47.79     15.37       22544.58  \n",
       "12004         1.48  21.60     19.68       14159.62  \n",
       "...            ...    ...       ...            ...  \n",
       "12295         0.92  33.02     21.69       24440.50  \n",
       "12296         0.94  16.08     17.01       32621.99  \n",
       "12297         0.48  30.76     21.52       38818.52  \n",
       "12298         0.76  13.02     25.53       31739.97  \n",
       "12299         0.83  36.41      8.94       22949.86  \n",
       "\n",
       "[286 rows x 10 columns]"
      ]
     },
     "execution_count": 10,
     "metadata": {},
     "output_type": "execute_result"
    }
   ],
   "source": [
    "df[df.duplicated()]  # Find duplicates"
   ]
  },
  {
   "cell_type": "code",
   "execution_count": 11,
   "id": "9f172ca9",
   "metadata": {},
   "outputs": [],
   "source": [
    "df = df.drop_duplicates()"
   ]
  },
  {
   "cell_type": "code",
   "execution_count": 12,
   "id": "e3e769bc",
   "metadata": {},
   "outputs": [
    {
     "data": {
      "text/plain": [
       "(12014, 10)"
      ]
     },
     "execution_count": 12,
     "metadata": {},
     "output_type": "execute_result"
    }
   ],
   "source": [
    "df.shape  # Shape after"
   ]
  },
  {
   "cell_type": "markdown",
   "id": "f01cf4e2",
   "metadata": {},
   "source": [
    "## 🚫 Step 7: Handle Missing Values"
   ]
  },
  {
   "cell_type": "code",
   "execution_count": 13,
   "id": "2159423b",
   "metadata": {},
   "outputs": [
    {
     "data": {
      "text/plain": [
       "Company            0\n",
       "Sector             0\n",
       "Year               0\n",
       "Revenue_Cr       123\n",
       "Net_Profit_Cr    123\n",
       "EBITDA_Margin    123\n",
       "Debt_Equity        0\n",
       "EPS                0\n",
       "PE_Ratio           0\n",
       "Market_Cap_Cr      0\n",
       "dtype: int64"
      ]
     },
     "execution_count": 13,
     "metadata": {},
     "output_type": "execute_result"
    }
   ],
   "source": [
    "df.isnull().sum()  # Missing values before"
   ]
  },
  {
   "cell_type": "code",
   "execution_count": 14,
   "id": "194bfd66",
   "metadata": {},
   "outputs": [],
   "source": [
    "df = df.dropna()  # Drop rows with missing values"
   ]
  },
  {
   "cell_type": "code",
   "execution_count": 15,
   "id": "66fafa7c",
   "metadata": {},
   "outputs": [
    {
     "data": {
      "text/plain": [
       "Company          0\n",
       "Sector           0\n",
       "Year             0\n",
       "Revenue_Cr       0\n",
       "Net_Profit_Cr    0\n",
       "EBITDA_Margin    0\n",
       "Debt_Equity      0\n",
       "EPS              0\n",
       "PE_Ratio         0\n",
       "Market_Cap_Cr    0\n",
       "dtype: int64"
      ]
     },
     "execution_count": 15,
     "metadata": {},
     "output_type": "execute_result"
    }
   ],
   "source": [
    "df.isnull().sum()  # Missing values after"
   ]
  },
  {
   "cell_type": "markdown",
   "id": "3dd49f1c",
   "metadata": {},
   "source": [
    "## ⚠️ Step 8: Working on Columns"
   ]
  },
  {
   "cell_type": "code",
   "execution_count": null,
   "id": "6458211e",
   "metadata": {},
   "outputs": [],
   "source": [
    "# Method 1: Using bracket notation (recommended)\n",
    "A = df[(\"Revenue_Cr\")]\n",
    "print(A)\n",
    "B = df[['Sector', 'Revenue_Cr']]\n",
    "print(B)\n",
    "\n",
    "# Select the second column using .iloc (indexing starts from 0)\n",
    "C=df.iloc[:, 0]\n",
    "print(C)\n",
    "\n",
    "# Same as above, but using .loc to explicitly mention all rows (:)\n",
    "df.loc[:, [\"Revenue_Cr\", \"Net_Profit_Cr\"]]"
   ]
  },
  {
   "cell_type": "code",
   "execution_count": null,
   "id": "471ca3be",
   "metadata": {},
   "outputs": [],
   "source": [
    "# Drop the 'PE_Ratio' column and store the result in a new DataFrame\n",
    "df2 = df.drop(['PE_Ratio'], axis=1)  # axis=1 indicates column, axis=0 is for rows\n",
    "df2.head()"
   ]
  },
  {
   "cell_type": "code",
   "execution_count": 16,
   "id": "78e07632",
   "metadata": {},
   "outputs": [
    {
     "name": "stdout",
     "output_type": "stream",
     "text": [
      "1496.9589851463898\n",
      "1498.44\n",
      "11647\n",
      "403.47\n",
      "2607.49\n"
     ]
    }
   ],
   "source": [
    "# Find the average revenue\n",
    "print(df.Revenue_Cr.mean())\n",
    "\n",
    "# Find the median revenue\n",
    "print(df.Revenue_Cr.median())\n",
    "\n",
    "# Count how many non-missing entries are in the column\n",
    "print(df.Revenue_Cr.count())\n",
    "\n",
    "# Minimum revenue\n",
    "print(df.Revenue_Cr.min())\n",
    "\n",
    "# Maximum revenue\n",
    "print(df.Revenue_Cr.max())"
   ]
  },
  {
   "cell_type": "code",
   "execution_count": null,
   "id": "864a09ed",
   "metadata": {},
   "outputs": [],
   "source": [
    "# Sort the DataFrame by Net Profit in ascending order\n",
    "df.sort_values(['Net_Profit_Cr'])"
   ]
  },
  {
   "cell_type": "markdown",
   "id": "a5a20416",
   "metadata": {},
   "source": [
    "### Grouping and Aggregating"
   ]
  },
  {
   "cell_type": "code",
   "execution_count": 17,
   "id": "828f4c6c",
   "metadata": {
    "scrolled": true
   },
   "outputs": [
    {
     "data": {
      "text/plain": [
       "Sector\n",
       "Automobile    1499.571899\n",
       "Energy        1489.136431\n",
       "Finance       1494.310903\n",
       "IT            1495.682898\n",
       "Metals        1506.043341\n",
       "Name: Revenue_Cr, dtype: float64"
      ]
     },
     "execution_count": 17,
     "metadata": {},
     "output_type": "execute_result"
    }
   ],
   "source": [
    "# Average Revenue by Sector\n",
    "df.groupby('Sector')['Revenue_Cr'].mean()"
   ]
  },
  {
   "cell_type": "code",
   "execution_count": 18,
   "id": "78fbc447",
   "metadata": {
    "scrolled": true
   },
   "outputs": [
    {
     "data": {
      "text/html": [
       "<div>\n",
       "<style scoped>\n",
       "    .dataframe tbody tr th:only-of-type {\n",
       "        vertical-align: middle;\n",
       "    }\n",
       "\n",
       "    .dataframe tbody tr th {\n",
       "        vertical-align: top;\n",
       "    }\n",
       "\n",
       "    .dataframe thead th {\n",
       "        text-align: right;\n",
       "    }\n",
       "</style>\n",
       "<table border=\"1\" class=\"dataframe\">\n",
       "  <thead>\n",
       "    <tr style=\"text-align: right;\">\n",
       "      <th></th>\n",
       "      <th>Revenue_Cr</th>\n",
       "      <th>Net_Profit_Cr</th>\n",
       "      <th>Market_Cap_Cr</th>\n",
       "    </tr>\n",
       "    <tr>\n",
       "      <th>Sector</th>\n",
       "      <th></th>\n",
       "      <th></th>\n",
       "      <th></th>\n",
       "    </tr>\n",
       "  </thead>\n",
       "  <tbody>\n",
       "    <tr>\n",
       "      <th>Automobile</th>\n",
       "      <td>1499.571899</td>\n",
       "      <td>199.782226</td>\n",
       "      <td>29912.892331</td>\n",
       "    </tr>\n",
       "    <tr>\n",
       "      <th>Energy</th>\n",
       "      <td>1489.136431</td>\n",
       "      <td>200.247046</td>\n",
       "      <td>29904.549429</td>\n",
       "    </tr>\n",
       "    <tr>\n",
       "      <th>Finance</th>\n",
       "      <td>1494.310903</td>\n",
       "      <td>200.489811</td>\n",
       "      <td>29782.749652</td>\n",
       "    </tr>\n",
       "    <tr>\n",
       "      <th>IT</th>\n",
       "      <td>1495.682898</td>\n",
       "      <td>201.951022</td>\n",
       "      <td>30155.777746</td>\n",
       "    </tr>\n",
       "    <tr>\n",
       "      <th>Metals</th>\n",
       "      <td>1506.043341</td>\n",
       "      <td>199.759366</td>\n",
       "      <td>29763.003553</td>\n",
       "    </tr>\n",
       "  </tbody>\n",
       "</table>\n",
       "</div>"
      ],
      "text/plain": [
       "             Revenue_Cr  Net_Profit_Cr  Market_Cap_Cr\n",
       "Sector                                               \n",
       "Automobile  1499.571899     199.782226   29912.892331\n",
       "Energy      1489.136431     200.247046   29904.549429\n",
       "Finance     1494.310903     200.489811   29782.749652\n",
       "IT          1495.682898     201.951022   30155.777746\n",
       "Metals      1506.043341     199.759366   29763.003553"
      ]
     },
     "execution_count": 18,
     "metadata": {},
     "output_type": "execute_result"
    }
   ],
   "source": [
    "df.groupby('Sector')[['Revenue_Cr', 'Net_Profit_Cr', 'Market_Cap_Cr']].mean()"
   ]
  },
  {
   "cell_type": "code",
   "execution_count": 19,
   "id": "198b0d54",
   "metadata": {},
   "outputs": [
    {
     "data": {
      "image/png": "[encoded data removed]",
      "text/plain": [
       "<Figure size 432x288 with 1 Axes>"
      ]
     },
     "metadata": {
      "needs_background": "light"
     },
     "output_type": "display_data"
    }
   ],
   "source": [
    "# Create a boxplot to see the spread of Revenue_Cr\n",
    "df.boxplot(column='Revenue_Cr')\n",
    "\n",
    "plt.title(\"Boxplot of Revenue (Cr)\")\n",
    "plt.ylabel(\"Revenue\")\n",
    "plt.show()"
   ]
  },
  {
   "cell_type": "code",
   "execution_count": 20,
   "id": "f4f06d15",
   "metadata": {},
   "outputs": [],
   "source": [
    "numerical_cols = ['Revenue_Cr', 'Net_Profit_Cr', 'EBITDA_Margin', 'Debt_Equity', 'EPS', 'PE_Ratio', 'Market_Cap_Cr']"
   ]
  },
  {
   "cell_type": "code",
   "execution_count": 21,
   "id": "62e92295",
   "metadata": {},
   "outputs": [
    {
     "data": {
      "text/plain": [
       "Revenue_Cr        1290.330\n",
       "Net_Profit_Cr      145.575\n",
       "EBITDA_Margin       14.640\n",
       "Debt_Equity          0.600\n",
       "EPS                 18.200\n",
       "PE_Ratio            15.400\n",
       "Market_Cap_Cr    21920.410\n",
       "Name: 0.25, dtype: float64"
      ]
     },
     "execution_count": 21,
     "metadata": {},
     "output_type": "execute_result"
    }
   ],
   "source": [
    "Q1 = df[numerical_cols].quantile(0.25)\n",
    "Q1"
   ]
  },
  {
   "cell_type": "code",
   "execution_count": 22,
   "id": "66304828",
   "metadata": {},
   "outputs": [
    {
     "data": {
      "text/plain": [
       "Revenue_Cr        1701.400\n",
       "Net_Profit_Cr      254.745\n",
       "EBITDA_Margin       21.370\n",
       "Debt_Equity          1.010\n",
       "EPS                 31.690\n",
       "PE_Ratio            24.710\n",
       "Market_Cap_Cr    38006.115\n",
       "Name: 0.75, dtype: float64"
      ]
     },
     "execution_count": 22,
     "metadata": {},
     "output_type": "execute_result"
    }
   ],
   "source": [
    "Q3 = df[numerical_cols].quantile(0.75)\n",
    "Q3"
   ]
  },
  {
   "cell_type": "code",
   "execution_count": 23,
   "id": "ffc0a0a9",
   "metadata": {},
   "outputs": [
    {
     "data": {
      "text/plain": [
       "Revenue_Cr         411.070\n",
       "Net_Profit_Cr      109.170\n",
       "EBITDA_Margin        6.730\n",
       "Debt_Equity          0.410\n",
       "EPS                 13.490\n",
       "PE_Ratio             9.310\n",
       "Market_Cap_Cr    16085.705\n",
       "dtype: float64"
      ]
     },
     "execution_count": 23,
     "metadata": {},
     "output_type": "execute_result"
    }
   ],
   "source": [
    "IQR = Q3 - Q1\n",
    "IQR"
   ]
  },
  {
   "cell_type": "code",
   "execution_count": 24,
   "id": "7bff58e2",
   "metadata": {},
   "outputs": [
    {
     "data": {
      "text/plain": [
       "Revenue_Cr        673.7250\n",
       "Net_Profit_Cr     -18.1800\n",
       "EBITDA_Margin       4.5450\n",
       "Debt_Equity        -0.0150\n",
       "EPS                -2.0350\n",
       "PE_Ratio            1.4350\n",
       "Market_Cap_Cr   -2208.1475\n",
       "dtype: float64"
      ]
     },
     "execution_count": 24,
     "metadata": {},
     "output_type": "execute_result"
    }
   ],
   "source": [
    "lower_bound = Q1 - 1.5 * IQR\n",
    "lower_bound"
   ]
  },
  {
   "cell_type": "code",
   "execution_count": 25,
   "id": "3dc278aa",
   "metadata": {},
   "outputs": [
    {
     "data": {
      "text/plain": [
       "Revenue_Cr        2318.0050\n",
       "Net_Profit_Cr      418.5000\n",
       "EBITDA_Margin       31.4650\n",
       "Debt_Equity          1.6250\n",
       "EPS                 51.9250\n",
       "PE_Ratio            38.6750\n",
       "Market_Cap_Cr    62134.6725\n",
       "dtype: float64"
      ]
     },
     "execution_count": 25,
     "metadata": {},
     "output_type": "execute_result"
    }
   ],
   "source": [
    "upper_bound = Q3 + 1.5 * IQR\n",
    "upper_bound"
   ]
  },
  {
   "cell_type": "code",
   "execution_count": 26,
   "id": "04e98331",
   "metadata": {},
   "outputs": [],
   "source": [
    "# Copy of the original data\n",
    "df_cleaned = df.copy()\n",
    "\n",
    "# Create a filter to keep only values within bounds\n",
    "condition = (df_cleaned[numerical_cols] >= lower_bound) & (df_cleaned[numerical_cols] <= upper_bound)\n",
    "\n",
    "# Keep only rows where all columns meet the condition\n",
    "df_cleaned = df_cleaned[condition.all(axis=1)]\n",
    "\n",
    "#| Row | Col A | Col B | Col C | condition.all(axis=1) |\n",
    "#| --- | ----- | ----- | ----- | --------------------- |\n",
    "#| 0   | True  | True  | True  | ✅ True                |\n",
    "#| 1   | True  | False | True  | ❌ False               |\n",
    "#| 2   | True  | True  | False | ❌ False               |\n",
    "\n",
    "# Replace df with the cleaned version\n",
    "df = df_cleaned"
   ]
  },
  {
   "cell_type": "code",
   "execution_count": 27,
   "id": "d7357ebe",
   "metadata": {},
   "outputs": [
    {
     "data": {
      "text/plain": [
       "(11156, 10)"
      ]
     },
     "execution_count": 27,
     "metadata": {},
     "output_type": "execute_result"
    }
   ],
   "source": [
    "df.shape  # Shape after outlier removal"
   ]
  },
  {
   "cell_type": "markdown",
   "id": "25000761",
   "metadata": {},
   "source": [
    "## 📊 Step 9: Visualize the Data"
   ]
  },
  {
   "cell_type": "code",
   "execution_count": 28,
   "id": "7b124f1f",
   "metadata": {},
   "outputs": [
    {
     "data": {
      "image/png": "[encoded data removed]",
      "text/plain": [
       "<Figure size 432x288 with 1 Axes>"
      ]
     },
     "metadata": {
      "needs_background": "light"
     },
     "output_type": "display_data"
    }
   ],
   "source": [
    "sns.countplot(data=df, y='Sector', order=df['Sector'].value_counts().index)\n",
    "plt.title(\"Number of Companies per Sector\")\n",
    "plt.show()\n",
    "\n",
    "\n",
    "# Create a horizontal bar plot (countplot) using Seaborn to show the frequency of each category \n",
    "# in the 'Sector' column.\n",
    "\n",
    "#sns.countplot(\n",
    "#    data=df,  # Specifies the DataFrame to use for plotting.\n",
    "#    y='Sector',  # The name of the column to plot on the y-axis (resulting in horizontal bars).\n",
    "                 # Each unique value in 'Sector' will be a bar.\n",
    "#    order=df['Sector'].value_counts().index  \n",
    "                        # Sets the order of the bars.\n",
    "                        # df['Sector'].value_counts() counts occurrences of each sector.\n",
    "                        # .index gets the sector names sorted by frequency (most frequent first).\n",
    "                        # This makes the plot display bars from most common to least common sector.\n",
    "#)\n",
    "\n",
    "# Set the title of the plot using Matplotlib's pyplot interface.\n",
    "#plt.title(\"Number of Companies per Sector\")\n",
    "\n",
    "# Display the generated plot.\n",
    "# In some environments (like Jupyter notebooks with %matplotlib inline), plots might appear without this,\n",
    "# but it's good practice to include it for explicit rendering.\n",
    "#plt.show()"
   ]
  },
  {
   "cell_type": "code",
   "execution_count": 29,
   "id": "a3af1ee7",
   "metadata": {
    "scrolled": false
   },
   "outputs": [
    {
     "data": {
      "image/png": "[encoded data removed]",
      "text/plain": [
       "<Figure size 432x288 with 1 Axes>"
      ]
     },
     "metadata": {
      "needs_background": "light"
     },
     "output_type": "display_data"
    }
   ],
   "source": [
    "plt.hist(df['Revenue_Cr'].dropna(), bins=30, edgecolor='black')  # dropna to avoid errors\n",
    "plt.title(\"Distribution of Revenue (Cr)\")\n",
    "plt.xlabel(\"Revenue (Cr)\")\n",
    "plt.ylabel(\"Frequency\")\n",
    "plt.show()\n",
    "\n",
    "# ✅ df['Revenue_Cr'] This picks the Revenue_Cr column from the DataFrame.\n",
    "# ⚠️ Why .dropna()? : Some rows might have NaN values in Revenue_Cr, which would cause an error when plotting.\n",
    "\n",
    "# df['Revenue_Cr'].dropna() : Removes any rows where the revenue is missing. \n",
    "# 💡 This is important because matplotlib cannot plot missing values.\n",
    "\n",
    "# ✅ plt.hist(...) Creates the actual histogram: \n",
    "# df['Revenue_Cr'].dropna() → The cleaned data we want to visualize. bins=30 → Splits the data into 30 “buckets.”\n",
    "# edgecolor='black' → Draws a black border around each bar for better visibility.\n",
    "\n",
    "# ✅ Plot Labels : plt.title(\"Distribution of Revenue (Cr)\"): Sets a title for the chart.\n",
    "# plt.xlabel(\"Revenue (Cr)\"): Adds a label below the x-axis.\n",
    "# plt.ylabel(\"Frequency\"): Adds a label beside the y-axis showing count of companies in each bin.\n",
    "\n",
    "#🎯 What this plot shows : This is a bell-shaped distribution (normal distribution).\n",
    "# Most companies have revenue around ₹1500 Cr.\n",
    "# Very few have revenues below ₹800 Cr or above ₹2200 Cr."
   ]
  },
  {
   "cell_type": "code",
   "execution_count": 30,
   "id": "315a8809",
   "metadata": {},
   "outputs": [
    {
     "data": {
      "image/png": "[encoded data removed]",
      "text/plain": [
       "<Figure size 432x288 with 1 Axes>"
      ]
     },
     "metadata": {
      "needs_background": "light"
     },
     "output_type": "display_data"
    }
   ],
   "source": [
    "sns.scatterplot(data=df, x='Revenue_Cr', y='Net_Profit_Cr', hue='Sector')\n",
    "plt.title(\"Revenue vs Net Profit\")\n",
    "plt.show()\n",
    "\n",
    "# data=df: Uses the cleaned dataset. x='Revenue_Cr', y='Net_Profit_Cr': \n",
    "# hue='Sector': Colors each dot based on the company's sector (like IT, Metals, Finance, etc.)\n",
    "# plt.title(...): Adds a meaningful title."
   ]
  },
  {
   "cell_type": "code",
   "execution_count": 31,
   "id": "0135f924",
   "metadata": {},
   "outputs": [
    {
     "data": {
      "image/png": "[encoded data removed]",
      "text/plain": [
       "<Figure size 432x288 with 2 Axes>"
      ]
     },
     "metadata": {
      "needs_background": "light"
     },
     "output_type": "display_data"
    }
   ],
   "source": [
    "sns.heatmap(df[numerical_cols].corr(), annot=True, cmap=\"coolwarm\")\n",
    "plt.title(\"Correlation Heatmap\")\n",
    "plt.show()\n",
    "\n",
    "#df[numerical_cols].corr(): Calculates the correlation matrix — how closely two columns move together.\n",
    "\n",
    "#    Values range from -1 to +1 , +1 = Perfect positive correlation, -1 = Perfect negative correlation\n",
    "#    0 = No correlation\n",
    "\n",
    "#    sns.heatmap(...): Creates the heatmap.\n",
    "#    annot=True: Shows the actual correlation numbers in the boxes.\n",
    "#    cmap=\"coolwarm\": Uses a blue-to-red color scale:\n",
    "#           🔵 = negative correlation\n",
    "#           🔴 = positive correlation\n",
    "#           ⚪ = no correlation\n",
    "\n",
    "#    plt.title(...): Adds a title to the chart.\n",
    "\n",
    "#    PE_Ratio and EPS → Very low correlation (near 0)\n",
    "#    Market_Cap_Cr and Revenue_Cr → Weak or moderate positive correlation\n",
    "#    Blue values (e.g. Debt_Equity with EBITDA Margin) may indicate inverse relationships."
   ]
  },
  {
   "cell_type": "markdown",
   "id": "8c61f1a1",
   "metadata": {},
   "source": [
    "## ✅ End of EDA Tutorial\n",
    "\n",
    "You’ve now:\n",
    "- Loaded a finance dataset\n",
    "- Cleaned and explored the data\n",
    "- Removed missing values and outliers\n",
    "- Visualized important patterns\n",
    "\n",
    "Great work! 🎉"
   ]
  }
 ],
 "metadata": {
  "kernelspec": {
   "display_name": "Python 3 (ipykernel)",
   "language": "python",
   "name": "python3"
  },
  "language_info": {
   "codemirror_mode": {
    "name": "ipython",
    "version": 3
   },
   "file_extension": ".py",
   "mimetype": "text/x-python",
   "name": "python",
   "nbconvert_exporter": "python",
   "pygments_lexer": "ipython3",
   "version": "3.9.12"
  }
 },
 "nbformat": 4,
 "nbformat_minor": 5
}
