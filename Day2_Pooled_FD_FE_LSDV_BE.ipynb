{
 "cells": [
  {
   "cell_type": "markdown",
   "id": "2c1de634",
   "metadata": {},
   "source": [
    "# 📘 Notebook 4: Fixed Effects Models with Python (Entity Effects Only)\n",
    "\n",
    "## 💡 Preamble: Understanding Panel Estimators\n",
    "This notebook demonstrates five key approaches to estimating models with panel data:\n",
    "- **Pooled OLS**\n",
    "- **First Differences (FD)**\n",
    "- **LSDV (Fixed Effects via Dummies)**\n",
    "- **Within Estimator (Manual Demeaning)**\n",
    "- **Between Estimator (Firm-Level Averages)**\n",
    "\n",
    "Each section includes: the model implementation and interpretation based on output from synthetic Indian firm data."
   ]
  },
  {
   "cell_type": "code",
   "execution_count": 1,
   "id": "a9c9101d",
   "metadata": {},
   "outputs": [],
   "source": [
    "import pandas as pd\n",
    "import statsmodels.api as sm\n",
    "\n",
    "# Load the synthetic panel dataset\n",
    "df_panel = pd.read_csv(\"indian_firms_financials_synthetic.csv\")\n",
    "df_panel = df_panel.set_index(['FirmID', 'Year'])\n",
    "\n",
    "Y = df_panel['Profitability']\n",
    "X_vars = ['RND_Expenses', 'Advertising_Spends', 'Debt_Equity_Ratio', 'Firm_Size']\n",
    "X = df_panel[X_vars]\n",
    "X = sm.add_constant(X)"
   ]
  },
  {
   "cell_type": "markdown",
   "id": "f58e36fc",
   "metadata": {},
   "source": [
    "## 🔹 Part 1: Naive Pooled OLS\n",
    "**Concept**: Ignores the panel structure. Treats all firm-year observations as one flat dataset.\n",
    "\n",
    "**Use Case**: Simplest model but often biased if unobserved firm-level effects are correlated with regressors.\n",
    "\n",
    "**Interpretation of Output**:\n",
    "- R&D and Advertising positively affect profitability.\n",
    "- Firm Size also has a significant positive effect.\n",
    "- However, no firm-specific controls means omitted variable bias is likely."
   ]
  },
  {
   "cell_type": "code",
   "execution_count": 2,
   "id": "70d70e71",
   "metadata": {},
   "outputs": [
    {
     "name": "stdout",
     "output_type": "stream",
     "text": [
      "\n",
      "--- Pooled OLS (Baseline) ---\n",
      "                            OLS Regression Results                            \n",
      "==============================================================================\n",
      "Dep. Variable:          Profitability   R-squared:                       0.768\n",
      "Model:                            OLS   Adj. R-squared:                  0.748\n",
      "Method:                 Least Squares   F-statistic:                     37.32\n",
      "Date:                Wed, 28 May 2025   Prob (F-statistic):           9.34e-14\n",
      "Time:                        23:13:11   Log-Likelihood:                -61.131\n",
      "No. Observations:                  50   AIC:                             132.3\n",
      "Df Residuals:                      45   BIC:                             141.8\n",
      "Df Model:                           4                                         \n",
      "Covariance Type:            nonrobust                                         \n",
      "======================================================================================\n",
      "                         coef    std err          t      P>|t|      [0.025      0.975]\n",
      "--------------------------------------------------------------------------------------\n",
      "const                  0.9925      1.024      0.969      0.338      -1.070       3.055\n",
      "RND_Expenses           0.4522      0.072      6.267      0.000       0.307       0.597\n",
      "Advertising_Spends     0.2809      0.081      3.451      0.001       0.117       0.445\n",
      "Debt_Equity_Ratio     -0.1285      0.306     -0.420      0.676      -0.744       0.487\n",
      "Firm_Size              0.0541      0.005      9.993      0.000       0.043       0.065\n",
      "==============================================================================\n",
      "Omnibus:                        3.626   Durbin-Watson:                   1.852\n",
      "Prob(Omnibus):                  0.163   Jarque-Bera (JB):                1.734\n",
      "Skew:                           0.044   Prob(JB):                        0.420\n",
      "Kurtosis:                       2.092   Cond. No.                         859.\n",
      "==============================================================================\n",
      "\n",
      "Notes:\n",
      "[1] Standard Errors assume that the covariance matrix of the errors is correctly specified.\n"
     ]
    }
   ],
   "source": [
    "print(\"\\n--- Pooled OLS (Baseline) ---\")\n",
    "model_pooled = sm.OLS(Y, X).fit()\n",
    "print(model_pooled.summary())"
   ]
  },
  {
   "cell_type": "markdown",
   "id": "53eb9a86",
   "metadata": {},
   "source": [
    "## 🔹 Part 2: First Differences (FD)\n",
    "**Concept**: Subtracts each variable's previous year value from its current value. Removes fixed (time-invariant) firm effects.\n",
    "\n",
    "**Use Case**: Good for small T panels. Captures year-to-year firm-level changes.\n",
    "\n",
    "**Interpretation of Output**:\n",
    "- R&D and Ad Spend remain significant ➤ Their impact is not due to firm traits.\n",
    "- Firm Size disappears (no within-firm change)."
   ]
  },
  {
   "cell_type": "code",
   "execution_count": 3,
   "id": "8e6e6811",
   "metadata": {},
   "outputs": [
    {
     "name": "stdout",
     "output_type": "stream",
     "text": [
      "                                 OLS Regression Results                                \n",
      "=======================================================================================\n",
      "Dep. Variable:          Profitability   R-squared (uncentered):                   0.614\n",
      "Model:                            OLS   Adj. R-squared (uncentered):              0.582\n",
      "Method:                 Least Squares   F-statistic:                              19.58\n",
      "Date:                Wed, 28 May 2025   Prob (F-statistic):                    9.04e-08\n",
      "Time:                        23:13:21   Log-Likelihood:                         -62.013\n",
      "No. Observations:                  40   AIC:                                      130.0\n",
      "Df Residuals:                      37   BIC:                                      135.1\n",
      "Df Model:                           3                                                  \n",
      "Covariance Type:            nonrobust                                                  \n",
      "======================================================================================\n",
      "                         coef    std err          t      P>|t|      [0.025      0.975]\n",
      "--------------------------------------------------------------------------------------\n",
      "RND_Expenses           0.4412      0.066      6.643      0.000       0.307       0.576\n",
      "Advertising_Spends     0.2865      0.082      3.498      0.001       0.121       0.452\n",
      "Debt_Equity_Ratio     -0.0601      0.321     -0.187      0.853      -0.711       0.591\n",
      "Firm_Size                   0          0        nan        nan           0           0\n",
      "==============================================================================\n",
      "Omnibus:                        2.177   Durbin-Watson:                   2.396\n",
      "Prob(Omnibus):                  0.337   Jarque-Bera (JB):                1.663\n",
      "Skew:                           0.321   Prob(JB):                        0.435\n",
      "Kurtosis:                       2.234   Cond. No.                          inf\n",
      "==============================================================================\n",
      "\n",
      "Notes:\n",
      "[1] R² is computed without centering (uncentered) since the model does not contain a constant.\n",
      "[2] Standard Errors assume that the covariance matrix of the errors is correctly specified.\n",
      "[3] The smallest eigenvalue is      0. This might indicate that there are\n",
      "strong multicollinearity problems or that the design matrix is singular.\n"
     ]
    },
    {
     "name": "stderr",
     "output_type": "stream",
     "text": [
      "/Users/varunnkaushik/opt/anaconda3/lib/python3.9/site-packages/statsmodels/regression/linear_model.py:1934: RuntimeWarning: divide by zero encountered in double_scalars\n",
      "  return np.sqrt(eigvals[0]/eigvals[-1])\n"
     ]
    }
   ],
   "source": [
    "df_fd = df_panel.reset_index()\n",
    "df_fd_diff = df_fd.groupby('FirmID')[['Profitability'] + X_vars].diff().dropna()\n",
    "Y_fd = df_fd_diff['Profitability']\n",
    "X_fd = df_fd_diff[X_vars]\n",
    "model_fd = sm.OLS(Y_fd, X_fd).fit()\n",
    "print(model_fd.summary())"
   ]
  },
  {
   "cell_type": "markdown",
   "id": "18b87448",
   "metadata": {},
   "source": [
    "## 🔹 Part 3: LSDV (Fixed Effects using Dummies)\n",
    "**Concept**: Adds dummy variables for each firm to absorb unobserved firm-specific characteristics.\n",
    "\n",
    "**Use Case**: Useful when you want to explicitly estimate firm-level fixed effects.\n",
    "\n",
    "**Interpretation of Output**:\n",
    "- Identical β coefficients to Within estimator.\n",
    "- Significant positive effects for R&D and Ad Spend.\n",
    "- Firm dummies estimate each firm's intercept."
   ]
  },
  {
   "cell_type": "code",
   "execution_count": 4,
   "id": "bd5f5177",
   "metadata": {},
   "outputs": [
    {
     "name": "stdout",
     "output_type": "stream",
     "text": [
      "                            OLS Regression Results                            \n",
      "==============================================================================\n",
      "Dep. Variable:          Profitability   R-squared:                       0.804\n",
      "Model:                            OLS   Adj. R-squared:                  0.741\n",
      "Method:                 Least Squares   F-statistic:                     12.65\n",
      "Date:                Wed, 28 May 2025   Prob (F-statistic):           1.09e-09\n",
      "Time:                        23:13:35   Log-Likelihood:                -56.945\n",
      "No. Observations:                  50   AIC:                             139.9\n",
      "Df Residuals:                      37   BIC:                             164.7\n",
      "Df Model:                          12                                         \n",
      "Covariance Type:            nonrobust                                         \n",
      "======================================================================================\n",
      "                         coef    std err          t      P>|t|      [0.025      0.975]\n",
      "--------------------------------------------------------------------------------------\n",
      "const                  0.3714      0.413      0.898      0.375      -0.466       1.209\n",
      "RND_Expenses           0.4704      0.077      6.093      0.000       0.314       0.627\n",
      "Advertising_Spends     0.2857      0.086      3.318      0.002       0.111       0.460\n",
      "Debt_Equity_Ratio     -0.1964      0.332     -0.592      0.558      -0.869       0.476\n",
      "Firm_Size              0.0562      0.007      8.194      0.000       0.042       0.070\n",
      "Firm_F10               0.2495      0.610      0.409      0.685      -0.987       1.486\n",
      "Firm_F2                0.4425      0.508      0.871      0.390      -0.587       1.472\n",
      "Firm_F3                0.1469      0.483      0.304      0.763      -0.831       1.125\n",
      "Firm_F4                0.2615      0.533      0.491      0.626      -0.818       1.341\n",
      "Firm_F5                0.1983      0.622      0.319      0.752      -1.063       1.460\n",
      "Firm_F6                0.1037      0.501      0.207      0.837      -0.912       1.119\n",
      "Firm_F7               -0.2009      0.603     -0.333      0.741      -1.423       1.022\n",
      "Firm_F8                0.9780      0.524      1.865      0.070      -0.084       2.040\n",
      "Firm_F9                0.7184      0.553      1.298      0.202      -0.403       1.839\n",
      "==============================================================================\n",
      "Omnibus:                        2.198   Durbin-Watson:                   2.225\n",
      "Prob(Omnibus):                  0.333   Jarque-Bera (JB):                1.673\n",
      "Skew:                           0.447   Prob(JB):                        0.433\n",
      "Kurtosis:                       3.048   Cond. No.                     1.17e+18\n",
      "==============================================================================\n",
      "\n",
      "Notes:\n",
      "[1] Standard Errors assume that the covariance matrix of the errors is correctly specified.\n",
      "[2] The smallest eigenvalue is 3.85e-31. This might indicate that there are\n",
      "strong multicollinearity problems or that the design matrix is singular.\n"
     ]
    }
   ],
   "source": [
    "df_lsdv = df_panel.reset_index()\n",
    "Y_lsdv = df_lsdv['Profitability']\n",
    "X_lsdv_original = df_lsdv[X_vars]\n",
    "entity_dummies = pd.get_dummies(df_lsdv['FirmID'], drop_first=True, prefix='Firm').astype(int)\n",
    "X_lsdv_entity = pd.concat([X_lsdv_original, entity_dummies], axis=1)\n",
    "X_lsdv_entity = sm.add_constant(X_lsdv_entity)\n",
    "model_lsdv_entity = sm.OLS(Y_lsdv, X_lsdv_entity).fit()\n",
    "print(model_lsdv_entity.summary())"
   ]
  },
  {
   "cell_type": "markdown",
   "id": "2547e972",
   "metadata": {},
   "source": [
    "## 🔹 Part 4: Within Estimator (Manual Demeaning)\n",
    "**Concept**: Subtracts firm-level means from each variable, removing all time-invariant firm effects.\n",
    "\n",
    "**Use Case**: More computationally efficient than LSDV.\n",
    "\n",
    "**Interpretation of Output**:\n",
    "- Coefficients match LSDV.\n",
    "- Estimates driven entirely by within-firm variation over time."
   ]
  },
  {
   "cell_type": "code",
   "execution_count": 5,
   "id": "cf19ec45",
   "metadata": {},
   "outputs": [
    {
     "name": "stdout",
     "output_type": "stream",
     "text": [
      "                                 OLS Regression Results                                \n",
      "=======================================================================================\n",
      "Dep. Variable:          Profitability   R-squared (uncentered):                   0.596\n",
      "Model:                            OLS   Adj. R-squared (uncentered):              0.561\n",
      "Method:                 Least Squares   F-statistic:                              16.99\n",
      "Date:                Wed, 28 May 2025   Prob (F-statistic):                    1.28e-08\n",
      "Time:                        23:13:44   Log-Likelihood:                         -56.945\n",
      "No. Observations:                  50   AIC:                                      121.9\n",
      "Df Residuals:                      46   BIC:                                      129.5\n",
      "Df Model:                           4                                                  \n",
      "Covariance Type:            nonrobust                                                  \n",
      "======================================================================================\n",
      "                         coef    std err          t      P>|t|      [0.025      0.975]\n",
      "--------------------------------------------------------------------------------------\n",
      "RND_Expenses           0.4704      0.069      6.794      0.000       0.331       0.610\n",
      "Advertising_Spends     0.2857      0.077      3.700      0.001       0.130       0.441\n",
      "Debt_Equity_Ratio     -0.1964      0.298     -0.660      0.513      -0.795       0.403\n",
      "Firm_Size              0.0195   2.48e+13   7.88e-16      1.000   -4.99e+13    4.99e+13\n",
      "==============================================================================\n",
      "Omnibus:                        2.198   Durbin-Watson:                   2.225\n",
      "Prob(Omnibus):                  0.333   Jarque-Bera (JB):                1.673\n",
      "Skew:                           0.447   Prob(JB):                        0.433\n",
      "Kurtosis:                       3.048   Cond. No.                     3.71e+14\n",
      "==============================================================================\n",
      "\n",
      "Notes:\n",
      "[1] R² is computed without centering (uncentered) since the model does not contain a constant.\n",
      "[2] Standard Errors assume that the covariance matrix of the errors is correctly specified.\n",
      "[3] The smallest eigenvalue is 1.01e-27. This might indicate that there are\n",
      "strong multicollinearity problems or that the design matrix is singular.\n"
     ]
    }
   ],
   "source": [
    "X_demeaned = X.groupby('FirmID').transform(lambda x: x - x.mean())\n",
    "Y_demeaned = Y.groupby('FirmID').transform(lambda y: y - y.mean())\n",
    "X_demeaned_ols = X_demeaned.drop(columns=['const'], errors='ignore')\n",
    "model_manual_within = sm.OLS(Y_demeaned, X_demeaned_ols).fit()\n",
    "print(model_manual_within.summary())"
   ]
  },
  {
   "cell_type": "markdown",
   "id": "df61c218",
   "metadata": {},
   "source": [
    "## 🔹 Part 5: Between Estimator\n",
    "**Concept**: Uses only firm-level average values over time to estimate relationships.\n",
    "\n",
    "**Use Case**: Describes long-run cross-sectional relationships. Does NOT remove αᵢ.\n",
    "\n",
    "**Interpretation of Output**:\n",
    "- R² is high due to averaging.\n",
    "- Firm Size is significant (explains cross-firm variation).\n",
    "- Not useful for causal inference."
   ]
  },
  {
   "cell_type": "markdown",
   "id": "b2f1b791",
   "metadata": {},
   "source": [
    "## 🔚 Comparison of Estimators\n",
    "| Estimator         | Controls for αᵢ? | Best For                          | Key Takeaway                         |\n",
    "|------------------|------------------|-----------------------------------|--------------------------------------|\n",
    "| Pooled OLS       | ❌               | Basic regression (biased)         | R&D and Ad Spend look strong, but likely biased |\n",
    "| First Differences| ✅               | Year-over-year firm-level changes | R&D and Ads still significant        |\n",
    "| LSDV             | ✅               | Interpretable fixed effects       | Matches Within; adds dummy terms    |\n",
    "| Within           | ✅               | Efficient FE estimation           | Same as LSDV, less memory-intensive  |\n",
    "| Between          | ❌               | Comparing firm averages           | High R² but poor for causal inference |"
   ]
  },
  {
   "cell_type": "code",
   "execution_count": 7,
   "id": "5e66d4b5",
   "metadata": {},
   "outputs": [
    {
     "name": "stdout",
     "output_type": "stream",
     "text": [
      "\n",
      "--- Comparison of Estimators ---\n",
      "\n",
      "Manual Within Estimator Coefficients:\n",
      "RND_Expenses          0.470352\n",
      "Advertising_Spends    0.285660\n",
      "Debt_Equity_Ratio    -0.196385\n",
      "Firm_Size             0.019531\n",
      "dtype: float64\n",
      "\n",
      "LSDV Coefficients:\n",
      "                            OLS Regression Results                            \n",
      "==============================================================================\n",
      "Dep. Variable:          Profitability   R-squared:                       0.804\n",
      "Model:                            OLS   Adj. R-squared:                  0.741\n",
      "Method:                 Least Squares   F-statistic:                     12.65\n",
      "Date:                Wed, 28 May 2025   Prob (F-statistic):           1.09e-09\n",
      "Time:                        23:14:01   Log-Likelihood:                -56.945\n",
      "No. Observations:                  50   AIC:                             139.9\n",
      "Df Residuals:                      37   BIC:                             164.7\n",
      "Df Model:                          12                                         \n",
      "Covariance Type:            nonrobust                                         \n",
      "======================================================================================\n",
      "                         coef    std err          t      P>|t|      [0.025      0.975]\n",
      "--------------------------------------------------------------------------------------\n",
      "const                  0.3714      0.413      0.898      0.375      -0.466       1.209\n",
      "RND_Expenses           0.4704      0.077      6.093      0.000       0.314       0.627\n",
      "Advertising_Spends     0.2857      0.086      3.318      0.002       0.111       0.460\n",
      "Debt_Equity_Ratio     -0.1964      0.332     -0.592      0.558      -0.869       0.476\n",
      "Firm_Size              0.0562      0.007      8.194      0.000       0.042       0.070\n",
      "Firm_F10               0.2495      0.610      0.409      0.685      -0.987       1.486\n",
      "Firm_F2                0.4425      0.508      0.871      0.390      -0.587       1.472\n",
      "Firm_F3                0.1469      0.483      0.304      0.763      -0.831       1.125\n",
      "Firm_F4                0.2615      0.533      0.491      0.626      -0.818       1.341\n",
      "Firm_F5                0.1983      0.622      0.319      0.752      -1.063       1.460\n",
      "Firm_F6                0.1037      0.501      0.207      0.837      -0.912       1.119\n",
      "Firm_F7               -0.2009      0.603     -0.333      0.741      -1.423       1.022\n",
      "Firm_F8                0.9780      0.524      1.865      0.070      -0.084       2.040\n",
      "Firm_F9                0.7184      0.553      1.298      0.202      -0.403       1.839\n",
      "==============================================================================\n",
      "Omnibus:                        2.198   Durbin-Watson:                   2.225\n",
      "Prob(Omnibus):                  0.333   Jarque-Bera (JB):                1.673\n",
      "Skew:                           0.447   Prob(JB):                        0.433\n",
      "Kurtosis:                       3.048   Cond. No.                     1.17e+18\n",
      "==============================================================================\n",
      "\n",
      "Notes:\n",
      "[1] Standard Errors assume that the covariance matrix of the errors is correctly specified.\n",
      "[2] The smallest eigenvalue is 3.85e-31. This might indicate that there are\n",
      "strong multicollinearity problems or that the design matrix is singular.\n",
      "\n",
      "First Differences Coefficients:\n",
      "RND_Expenses          0.441194\n",
      "Advertising_Spends    0.286495\n",
      "Debt_Equity_Ratio    -0.060076\n",
      "Firm_Size             0.000000\n",
      "dtype: float64\n",
      "\n",
      "Between Estimator Coefficients (Manual):\n",
      "const                 4.996323\n",
      "RND_Expenses          0.184502\n",
      "Advertising_Spends    0.049000\n",
      "Debt_Equity_Ratio     0.189588\n",
      "Firm_Size             0.049635\n",
      "dtype: float64\n"
     ]
    }
   ],
   "source": [
    "print(\"\\n--- Comparison of Estimators ---\")\n",
    "print(\"\\nManual Within Estimator Coefficients:\")\n",
    "print(model_manual_within.params)\n",
    "print(\"\\nLSDV Coefficients:\")\n",
    "print(model_lsdv_entity.summary())\n",
    "print(\"\\nFirst Differences Coefficients:\")\n",
    "print(model_fd.params)\n",
    "print(\"\\nBetween Estimator Coefficients (Manual):\") \n",
    "print(model_between.params)"
   ]
  },
  {
   "cell_type": "code",
   "execution_count": null,
   "id": "c64d3516",
   "metadata": {},
   "outputs": [],
   "source": []
  }
 ],
 "metadata": {
  "kernelspec": {
   "display_name": "Python 3 (ipykernel)",
   "language": "python",
   "name": "python3"
  },
  "language_info": {
   "codemirror_mode": {
    "name": "ipython",
    "version": 3
   },
   "file_extension": ".py",
   "mimetype": "text/x-python",
   "name": "python",
   "nbconvert_exporter": "python",
   "pygments_lexer": "ipython3",
   "version": "3.9.12"
  }
 },
 "nbformat": 4,
 "nbformat_minor": 5
}
