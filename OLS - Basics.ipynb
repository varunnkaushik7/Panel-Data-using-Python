{
 "cells": [
  {
   "cell_type": "code",
   "execution_count": 1,
   "id": "83448e4c",
   "metadata": {},
   "outputs": [],
   "source": [
    "# 📦 Step 0: Import Required Libraries\n",
    "import pandas as pd\n",
    "import numpy as np\n",
    "import seaborn as sns\n",
    "import matplotlib.pyplot as plt"
   ]
  },
  {
   "cell_type": "code",
   "execution_count": 2,
   "id": "51df3764",
   "metadata": {},
   "outputs": [],
   "source": [
    "# 🗂️ Step 1: Load the Dataset\n",
    "df = pd.read_excel(\"Day2_firm_data.xlsx\")  # Ensure the file is in the same directory or provide full path\n",
    "# print(df.head())  # Preview the first few rows"
   ]
  },
  {
   "cell_type": "code",
   "execution_count": 3,
   "id": "e75d3a6c",
   "metadata": {},
   "outputs": [
    {
     "name": "stdout",
     "output_type": "stream",
     "text": [
      "<class 'pandas.core.frame.DataFrame'>\n",
      "RangeIndex: 205 entries, 0 to 204\n",
      "Data columns (total 14 columns):\n",
      " #   Column                       Non-Null Count  Dtype  \n",
      "---  ------                       --------------  -----  \n",
      " 0   Firm_Name                    205 non-null    object \n",
      " 1   Year                         205 non-null    int64  \n",
      " 2   Revenue                      195 non-null    float64\n",
      " 3   Capital                      195 non-null    float64\n",
      " 4   RND_Expenses                 195 non-null    float64\n",
      " 5   Advertising_Expenses         195 non-null    float64\n",
      " 6   Debt_Equity_Ratio            195 non-null    float64\n",
      " 7   Firm_Size                    205 non-null    float64\n",
      " 8   Market_Share                 205 non-null    float64\n",
      " 9   Export_Ratio                 205 non-null    float64\n",
      " 10  Average_Salary_LPA           205 non-null    float64\n",
      " 11  Customer_Satisfaction_Score  195 non-null    float64\n",
      " 12  Profit                       205 non-null    float64\n",
      " 13  Internal_Notes               205 non-null    object \n",
      "dtypes: float64(11), int64(1), object(2)\n",
      "memory usage: 22.5+ KB\n"
     ]
    }
   ],
   "source": [
    "# Basic Info\n",
    "df.info()\n",
    "\n",
    "# Descriptive statistics for numerical variables\n",
    "# print(df.describe())\n",
    "\n",
    "# Check for column names and types\n",
    "# print(df.columns)"
   ]
  },
  {
   "cell_type": "code",
   "execution_count": 4,
   "id": "ea25333e",
   "metadata": {},
   "outputs": [],
   "source": [
    "# 'Internal_Notes' is not useful for analysis\n",
    "df.drop(columns=['Internal_Notes'], inplace=True)"
   ]
  },
  {
   "cell_type": "code",
   "execution_count": 5,
   "id": "f854d4a9",
   "metadata": {},
   "outputs": [
    {
     "name": "stdout",
     "output_type": "stream",
     "text": [
      "Duplicate Rows:\n",
      "             Firm_Name  Year     Revenue     Capital  RND_Expenses   \n",
      "200  Prime Enterprises  2020  464.471729  499.456821      7.473484  \\\n",
      "201    Zenith Holdings  2020  781.998904  176.863260     19.311783   \n",
      "202    Nova Industries  2020  267.199259   88.234830     24.631071   \n",
      "203      Omni Holdings  2021  256.567335  212.547227     33.678597   \n",
      "204       Delta Global  2021  101.285509  252.312509     42.658854   \n",
      "\n",
      "     Advertising_Expenses  Debt_Equity_Ratio    Firm_Size  Market_Share   \n",
      "200             62.068764           0.422031   857.152067      0.137473  \\\n",
      "201             93.217761           0.319275  2479.608062      0.274712   \n",
      "202             69.247670           1.807096  1456.095247      0.171870   \n",
      "203             16.362695           1.510007  2720.517385      0.298905   \n",
      "204             61.508367           3.996908  1505.548564      0.091332   \n",
      "\n",
      "     Export_Ratio  Average_Salary_LPA  Customer_Satisfaction_Score      Profit  \n",
      "200      0.510460            9.987395                     2.265829  178.886039  \n",
      "201      0.610363           17.752991                     1.998977  303.330017  \n",
      "202      0.347002           28.187428                     4.690581   68.955941  \n",
      "203      0.474534           25.033532                     2.728269  202.950109  \n",
      "204      0.159749            7.429717                     2.140746  114.453051  \n"
     ]
    }
   ],
   "source": [
    "# Step-by-step to find and display duplicate rows\n",
    "# ✅ Find and print duplicate rows (excluding the first occurrence)\n",
    "duplicates = df[df.duplicated()]\n",
    "\n",
    "# Display them\n",
    "print(\"Duplicate Rows:\")\n",
    "print(duplicates)\n",
    "\n",
    "\n",
    "# If you want to see all instances of duplicates, including the first occurrence (i.e. fully repeated rows), use:\n",
    "# ✅ Show all occurrences of duplicate rows (including the first)\n",
    "# duplicates_all = df[df.duplicated(keep=False)]\n",
    "\n",
    "# print(\"All duplicate rows (including originals):\")\n",
    "# print(duplicates_all)\n"
   ]
  },
  {
   "cell_type": "code",
   "execution_count": 6,
   "id": "15a22fb2",
   "metadata": {},
   "outputs": [
    {
     "name": "stdout",
     "output_type": "stream",
     "text": [
      "Duplicates: 5\n"
     ]
    }
   ],
   "source": [
    "# Find number of duplicate rows\n",
    "print(\"Duplicates:\", df.duplicated().sum())\n",
    "\n",
    "# Drop them if any\n",
    "df = df.drop_duplicates()"
   ]
  },
  {
   "cell_type": "code",
   "execution_count": 7,
   "id": "03795080",
   "metadata": {},
   "outputs": [
    {
     "name": "stdout",
     "output_type": "stream",
     "text": [
      "Duplicate Rows:\n",
      "Empty DataFrame\n",
      "Columns: [Firm_Name, Year, Revenue, Capital, RND_Expenses, Advertising_Expenses, Debt_Equity_Ratio, Firm_Size, Market_Share, Export_Ratio, Average_Salary_LPA, Customer_Satisfaction_Score, Profit]\n",
      "Index: []\n"
     ]
    }
   ],
   "source": [
    "# Sanity check\n",
    "\n",
    "duplicates = df[df.duplicated()]\n",
    "\n",
    "# Display them\n",
    "print(\"Duplicate Rows:\")\n",
    "print(duplicates)"
   ]
  },
  {
   "cell_type": "code",
   "execution_count": 8,
   "id": "165f1491",
   "metadata": {},
   "outputs": [
    {
     "name": "stdout",
     "output_type": "stream",
     "text": [
      "Firm_Name                       0\n",
      "Year                            0\n",
      "Revenue                        10\n",
      "Capital                        10\n",
      "RND_Expenses                   10\n",
      "Advertising_Expenses           10\n",
      "Debt_Equity_Ratio              10\n",
      "Firm_Size                       0\n",
      "Market_Share                    0\n",
      "Export_Ratio                    0\n",
      "Average_Salary_LPA              0\n",
      "Customer_Satisfaction_Score    10\n",
      "Profit                          0\n",
      "dtype: int64\n"
     ]
    }
   ],
   "source": [
    "# Show missing values per column\n",
    "print(df.isnull().sum())"
   ]
  },
  {
   "cell_type": "code",
   "execution_count": 9,
   "id": "6497cffd",
   "metadata": {},
   "outputs": [
    {
     "data": {
      "image/png": "[encoded data removed]",
      "text/plain": [
       "<Figure size 432x288 with 1 Axes>"
      ]
     },
     "metadata": {
      "needs_background": "light"
     },
     "output_type": "display_data"
    },
    {
     "data": {
      "image/png": "[encoded data removed]",
      "text/plain": [
       "<Figure size 432x288 with 1 Axes>"
      ]
     },
     "metadata": {
      "needs_background": "light"
     },
     "output_type": "display_data"
    },
    {
     "data": {
      "image/png": "[encoded data removed]",
      "text/plain": [
       "<Figure size 432x288 with 1 Axes>"
      ]
     },
     "metadata": {
      "needs_background": "light"
     },
     "output_type": "display_data"
    },
    {
     "data": {
      "image/png": "[encoded data removed]",
      "text/plain": [
       "<Figure size 432x288 with 1 Axes>"
      ]
     },
     "metadata": {
      "needs_background": "light"
     },
     "output_type": "display_data"
    },
    {
     "data": {
      "image/png": "[encoded data removed]",
      "text/plain": [
       "<Figure size 432x288 with 1 Axes>"
      ]
     },
     "metadata": {
      "needs_background": "light"
     },
     "output_type": "display_data"
    },
    {
     "data": {
      "image/png": "[encoded data removed]",
      "text/plain": [
       "<Figure size 432x288 with 1 Axes>"
      ]
     },
     "metadata": {
      "needs_background": "light"
     },
     "output_type": "display_data"
    }
   ],
   "source": [
    "import numpy as np\n",
    "import matplotlib.pyplot as plt\n",
    "\n",
    "cols_with_missing = [\n",
    "    'Revenue', 'Capital', 'RND_Expenses',\n",
    "    'Advertising_Expenses', 'Debt_Equity_Ratio',\n",
    "    'Customer_Satisfaction_Score'\n",
    "]\n",
    "\n",
    "for col in cols_with_missing:\n",
    "    data = df[col].dropna()\n",
    "    n = len(data)\n",
    "    \n",
    "    # Example: Sturges' Rule\n",
    "    #bins = int(np.ceil(np.log2(n) + 1))\n",
    "    #bins = int(np.ceil(np.sqrt(n)))\n",
    "\n",
    "    bins = 30\n",
    "    \n",
    "    # Plot with Matplotlib\n",
    "    plt.figure(figsize=(6, 4))\n",
    "    plt.hist(data, bins=bins, color='skyblue', edgecolor='black', alpha=0.7)\n",
    "    plt.axvline(data.mean(), color='green', linestyle='dashed', linewidth=1, label='Mean')\n",
    "    plt.axvline(data.median(), color='red', linestyle='dashed', linewidth=1, label='Median')\n",
    "    plt.title(f\"Histogram of {col}\")\n",
    "    plt.xlabel(col)\n",
    "    plt.ylabel(\"Frequency\")\n",
    "    plt.legend()\n",
    "    plt.tight_layout()\n",
    "    plt.show()"
   ]
  },
  {
   "cell_type": "code",
   "execution_count": 10,
   "id": "a291f14e",
   "metadata": {},
   "outputs": [],
   "source": [
    "# Impute using median for financial variables\n",
    "df['Revenue'].fillna(df['Revenue'].median(), inplace=True)\n",
    "df['Capital'].fillna(df['Capital'].median(), inplace=True)\n",
    "df['Advertising_Expenses'].fillna(df['Advertising_Expenses'].median(), inplace=True)\n",
    "df['Debt_Equity_Ratio'].fillna(df['Debt_Equity_Ratio'].median(), inplace=True)\n",
    "\n",
    "# Impute using mean for satisfaction scores\n",
    "df['RND_Expenses'].fillna(df['RND_Expenses'].mean(), inplace=True)\n",
    "df['Customer_Satisfaction_Score'].fillna(df['Customer_Satisfaction_Score'].mean(), inplace=True)"
   ]
  },
  {
   "cell_type": "code",
   "execution_count": 11,
   "id": "faab649c",
   "metadata": {},
   "outputs": [
    {
     "name": "stdout",
     "output_type": "stream",
     "text": [
      "Firm_Name                      0\n",
      "Year                           0\n",
      "Revenue                        0\n",
      "Capital                        0\n",
      "RND_Expenses                   0\n",
      "Advertising_Expenses           0\n",
      "Debt_Equity_Ratio              0\n",
      "Firm_Size                      0\n",
      "Market_Share                   0\n",
      "Export_Ratio                   0\n",
      "Average_Salary_LPA             0\n",
      "Customer_Satisfaction_Score    0\n",
      "Profit                         0\n",
      "dtype: int64\n"
     ]
    }
   ],
   "source": [
    "# Show missing values per column\n",
    "print(df.isnull().sum())"
   ]
  },
  {
   "cell_type": "code",
   "execution_count": 12,
   "id": "8f7320d4",
   "metadata": {},
   "outputs": [],
   "source": [
    "num_cols = [\n",
    "    'Revenue', 'Capital', 'RND_Expenses', 'Advertising_Expenses',\n",
    "    'Debt_Equity_Ratio', 'Customer_Satisfaction_Score'\n",
    "]"
   ]
  },
  {
   "cell_type": "code",
   "execution_count": 13,
   "id": "060bcee7",
   "metadata": {},
   "outputs": [
    {
     "name": "stdout",
     "output_type": "stream",
     "text": [
      "           Firm_Name  Year      Revenue\n",
      "6  Sigma Enterprises  2020  7460.846302\n"
     ]
    }
   ],
   "source": [
    "def get_outliers(df, col):\n",
    "    Q1 = df[col].quantile(0.25)\n",
    "    Q3 = df[col].quantile(0.75)\n",
    "    IQR = Q3 - Q1\n",
    "    lower_bound = Q1 - 1.5 * IQR\n",
    "    upper_bound = Q3 + 1.5 * IQR\n",
    "    return df[(df[col] < lower_bound) | (df[col] > upper_bound)]\n",
    "\n",
    "# Example: Find outliers in 'Revenue'\n",
    "outliers_revenue = get_outliers(df, 'Revenue')\n",
    "print(outliers_revenue[['Firm_Name', 'Year', 'Revenue']])"
   ]
  },
  {
   "cell_type": "code",
   "execution_count": 14,
   "id": "f2bd6179",
   "metadata": {},
   "outputs": [],
   "source": [
    "# Apply IQR capping to each column\n",
    "for col in num_cols:\n",
    "    Q1 = df[col].quantile(0.25)\n",
    "    Q3 = df[col].quantile(0.75)\n",
    "    IQR = Q3 - Q1\n",
    "    lower_bound = Q1 - 1.5 * IQR\n",
    "    upper_bound = Q3 + 1.5 * IQR\n",
    "\n",
    "    # Cap values\n",
    "    df[col] = df[col].clip(lower=lower_bound, upper=upper_bound)"
   ]
  },
  {
   "cell_type": "code",
   "execution_count": 15,
   "id": "91c6b271",
   "metadata": {},
   "outputs": [
    {
     "name": "stdout",
     "output_type": "stream",
     "text": [
      "Empty DataFrame\n",
      "Columns: [Firm_Name, Year, Revenue]\n",
      "Index: []\n"
     ]
    }
   ],
   "source": [
    "def get_outliers(df, col):\n",
    "    Q1 = df[col].quantile(0.25)\n",
    "    Q3 = df[col].quantile(0.75)\n",
    "    IQR = Q3 - Q1\n",
    "    lower_bound = Q1 - 1.5 * IQR\n",
    "    upper_bound = Q3 + 1.5 * IQR\n",
    "    return df[(df[col] < lower_bound) | (df[col] > upper_bound)]\n",
    "\n",
    "# Example: Find outliers in 'Revenue'\n",
    "outliers_revenue = get_outliers(df, 'Revenue')\n",
    "print(outliers_revenue[['Firm_Name', 'Year', 'Revenue']])"
   ]
  },
  {
   "cell_type": "code",
   "execution_count": 16,
   "id": "39720613",
   "metadata": {},
   "outputs": [
    {
     "name": "stdout",
     "output_type": "stream",
     "text": [
      "2020 Records: 100\n",
      "2021 Records: 100\n"
     ]
    }
   ],
   "source": [
    "# Filter data for 2020 and 2021 separately\n",
    "df_2020 = df[df['Year'] == 2020].copy()\n",
    "df_2021 = df[df['Year'] == 2021].copy()\n",
    "\n",
    "print(\"2020 Records:\", len(df_2020))\n",
    "print(\"2021 Records:\", len(df_2021))"
   ]
  },
  {
   "cell_type": "markdown",
   "id": "62065ede",
   "metadata": {},
   "source": [
    "### OLS\n",
    "#### We want to understand what factors influence a firm's Profit. Let's build a regression model. We'll start with a basic OLS model on the 2020 data."
   ]
  },
  {
   "cell_type": "code",
   "execution_count": 17,
   "id": "587fcf84",
   "metadata": {},
   "outputs": [],
   "source": [
    "# This imports the statsmodels library, which is used for running statistical models like linear regression (OLS), \n",
    "# logistic regression, and many others.\n",
    "\n",
    "import statsmodels.api as sm\n",
    "\n",
    "# Define the dependent and independent variables\n",
    "\n",
    "## This creates the independent variable matrix (X) — also called predictors or features.\n",
    "## These are the variables you think influence profit.\n",
    "## You are selecting six columns (variables) from your 2020 dataset. This becomes the RHS of regression equation.\n",
    "X = df_2020[['Revenue', 'Capital', 'RND_Expenses', 'Advertising_Expenses',\n",
    "             'Debt_Equity_Ratio', 'Customer_Satisfaction_Score']]\n",
    "\n",
    "\n",
    "## This defines your dependent variable (also called the target or outcome), which in this case is Profit.\n",
    "## This is what you're trying to explain or predict using the variables in X.\n",
    "y = df_2020['Profit']\n",
    "\n",
    "\n",
    "# Add constant to X\n",
    "\n",
    "## Without adding a constant, your regression would assume the \n",
    "## line passes through the origin (0,0) — which is usually unrealistic.\n",
    "X = sm.add_constant(X)"
   ]
  },
  {
   "cell_type": "code",
   "execution_count": 18,
   "id": "dea85666",
   "metadata": {},
   "outputs": [],
   "source": [
    "# Fit the OLS model\n",
    "model = sm.OLS(y, X).fit()\n",
    "\n",
    "## sm.OLS - This line sets up the OLS (Ordinary Least Squares) model\n",
    "## BUT — this doesn’t run the model yet.\n",
    "## It just says: “Here’s the setup for the regression.\n",
    "\n",
    "## .fit() - This actually runs the regression and finds the best-fitting line through the data \n",
    "## by minimizing the sum of squared errors (hence “least squares”)\n",
    "\n",
    "## model = ...This stores the entire fitted model (with all results) into the variable model"
   ]
  },
  {
   "cell_type": "code",
   "execution_count": 19,
   "id": "e2f1c285",
   "metadata": {},
   "outputs": [
    {
     "name": "stdout",
     "output_type": "stream",
     "text": [
      "                            OLS Regression Results                            \n",
      "==============================================================================\n",
      "Dep. Variable:                 Profit   R-squared:                       0.340\n",
      "Model:                            OLS   Adj. R-squared:                  0.297\n",
      "Method:                 Least Squares   F-statistic:                     7.969\n",
      "Date:                Thu, 29 May 2025   Prob (F-statistic):           6.04e-07\n",
      "Time:                        10:55:43   Log-Likelihood:                -673.59\n",
      "No. Observations:                 100   AIC:                             1361.\n",
      "Df Residuals:                      93   BIC:                             1379.\n",
      "Df Model:                           6                                         \n",
      "Covariance Type:            nonrobust                                         \n",
      "===============================================================================================\n",
      "                                  coef    std err          t      P>|t|      [0.025      0.975]\n",
      "-----------------------------------------------------------------------------------------------\n",
      "const                        -228.4164    110.819     -2.061      0.042    -448.481      -8.352\n",
      "Revenue                         0.2407      0.081      2.960      0.004       0.079       0.402\n",
      "Capital                         0.6276      0.175      3.590      0.001       0.280       0.975\n",
      "RND_Expenses                    2.1250      1.776      1.196      0.235      -1.402       5.652\n",
      "Advertising_Expenses            2.0280      0.782      2.592      0.011       0.474       3.582\n",
      "Debt_Equity_Ratio             -20.2941     19.500     -1.041      0.301     -59.016      18.428\n",
      "Customer_Satisfaction_Score    20.5768     17.718      1.161      0.248     -14.609      55.762\n",
      "==============================================================================\n",
      "Omnibus:                       97.964   Durbin-Watson:                   1.935\n",
      "Prob(Omnibus):                  0.000   Jarque-Bera (JB):              996.585\n",
      "Skew:                           3.282   Prob(JB):                    3.93e-217\n",
      "Kurtosis:                      17.004   Cond. No.                     3.65e+03\n",
      "==============================================================================\n",
      "\n",
      "Notes:\n",
      "[1] Standard Errors assume that the covariance matrix of the errors is correctly specified.\n",
      "[2] The condition number is large, 3.65e+03. This might indicate that there are\n",
      "strong multicollinearity or other numerical problems.\n"
     ]
    }
   ],
   "source": [
    "# Show the summary\n",
    "print(model.summary())"
   ]
  },
  {
   "cell_type": "code",
   "execution_count": 20,
   "id": "8b619083",
   "metadata": {},
   "outputs": [],
   "source": [
    "df_2020['Predicted_Profit'] = model.predict(X)\n",
    "## model.predict(X) computes the predicted profit based on your fitted regression model \n",
    "## using the independent variables.\n",
    "# By assigning it to a new column Predicted_Profit, you're adding it directly to your DataFrame df_2020."
   ]
  },
  {
   "cell_type": "code",
   "execution_count": 21,
   "id": "d604a05e",
   "metadata": {},
   "outputs": [
    {
     "data": {
      "image/png": "[encoded data removed]",
      "text/plain": [
       "<Figure size 432x288 with 1 Axes>"
      ]
     },
     "metadata": {
      "needs_background": "light"
     },
     "output_type": "display_data"
    }
   ],
   "source": [
    "# Scatter plot of actual vs predicted\n",
    "import matplotlib.pyplot as plt\n",
    "plt.figure(figsize=(6,4))\n",
    "plt.scatter(df_2020['Profit'], df_2020['Predicted_Profit'], alpha=0.7)\n",
    "plt.plot([df_2020['Profit'].min(), df_2020['Profit'].max()],\n",
    "         [df_2020['Profit'].min(), df_2020['Profit'].max()],\n",
    "         color='red', linestyle='--')\n",
    "plt.xlabel(\"Actual Profit\")\n",
    "plt.ylabel(\"Predicted Profit\")\n",
    "plt.title(\"Actual vs Predicted Profit (2020)\")\n",
    "plt.tight_layout()\n",
    "plt.show()"
   ]
  },
  {
   "cell_type": "markdown",
   "id": "fc5187ad",
   "metadata": {},
   "source": [
    "# Train and Test"
   ]
  },
  {
   "cell_type": "code",
   "execution_count": 22,
   "id": "dab700ce",
   "metadata": {},
   "outputs": [],
   "source": [
    "# 📦 Required Libraries\n",
    "import pandas as pd\n",
    "import numpy as np\n",
    "import statsmodels.api as sm\n",
    "from sklearn.model_selection import train_test_split\n",
    "from sklearn.metrics import mean_squared_error, r2_score\n",
    "\n",
    "## train_test_split splits data randomly for training and testing.\n",
    "## mean_squared_error and r2_score are used to evaluate how good the predictions are."
   ]
  },
  {
   "cell_type": "code",
   "execution_count": 23,
   "id": "4d4482fe",
   "metadata": {},
   "outputs": [],
   "source": [
    "X_2021 = df_2021[['Revenue', 'Capital', 'RND_Expenses', 'Advertising_Expenses',\n",
    "                  'Debt_Equity_Ratio', 'Customer_Satisfaction_Score']]\n",
    "y_2021 = df_2021['Profit']\n",
    "\n",
    "# This creates X (independent variables) and y (dependent variable) for 2021."
   ]
  },
  {
   "cell_type": "code",
   "execution_count": 24,
   "id": "4cc72748",
   "metadata": {},
   "outputs": [],
   "source": [
    "# ➗ Split into 70% training and 30% testing\n",
    "X_train, X_test, y_train, y_test = train_test_split(X_2021, y_2021, test_size=0.3, random_state=42)"
   ]
  },
  {
   "cell_type": "code",
   "execution_count": 25,
   "id": "9e75eb99",
   "metadata": {},
   "outputs": [],
   "source": [
    "# ➕ Add constant (intercept) to both sets\n",
    "X_train_const = sm.add_constant(X_train)\n",
    "X_test_const = sm.add_constant(X_test)"
   ]
  },
  {
   "cell_type": "code",
   "execution_count": 26,
   "id": "0c79e59e",
   "metadata": {},
   "outputs": [],
   "source": [
    "# 🏗️ Train the model on training data\n",
    "model_2021 = sm.OLS(y_train, X_train_const).fit()\n",
    "\n",
    "# OLS model learns patterns only from the training data."
   ]
  },
  {
   "cell_type": "code",
   "execution_count": 27,
   "id": "0d2d7f1f",
   "metadata": {},
   "outputs": [
    {
     "name": "stdout",
     "output_type": "stream",
     "text": [
      "                            OLS Regression Results                            \n",
      "==============================================================================\n",
      "Dep. Variable:                 Profit   R-squared:                       0.407\n",
      "Model:                            OLS   Adj. R-squared:                  0.350\n",
      "Method:                 Least Squares   F-statistic:                     7.205\n",
      "Date:                Thu, 29 May 2025   Prob (F-statistic):           7.01e-06\n",
      "Time:                        10:55:43   Log-Likelihood:                -383.59\n",
      "No. Observations:                  70   AIC:                             781.2\n",
      "Df Residuals:                      63   BIC:                             796.9\n",
      "Df Model:                           6                                         \n",
      "Covariance Type:            nonrobust                                         \n",
      "===============================================================================================\n",
      "                                  coef    std err          t      P>|t|      [0.025      0.975]\n",
      "-----------------------------------------------------------------------------------------------\n",
      "const                         119.5604     43.908      2.723      0.008      31.818     207.303\n",
      "Revenue                         0.1908      0.030      6.266      0.000       0.130       0.252\n",
      "Capital                         0.0711      0.060      1.180      0.242      -0.049       0.191\n",
      "RND_Expenses                   -0.1396      0.644     -0.217      0.829      -1.427       1.148\n",
      "Advertising_Expenses           -0.1688      0.285     -0.591      0.556      -0.739       0.402\n",
      "Debt_Equity_Ratio              -0.2159      7.762     -0.028      0.978     -15.727      15.295\n",
      "Customer_Satisfaction_Score     2.4885      7.062      0.352      0.726     -11.624      16.601\n",
      "==============================================================================\n",
      "Omnibus:                        0.281   Durbin-Watson:                   1.900\n",
      "Prob(Omnibus):                  0.869   Jarque-Bera (JB):                0.379\n",
      "Skew:                           0.141   Prob(JB):                        0.827\n",
      "Kurtosis:                       2.775   Cond. No.                     3.48e+03\n",
      "==============================================================================\n",
      "\n",
      "Notes:\n",
      "[1] Standard Errors assume that the covariance matrix of the errors is correctly specified.\n",
      "[2] The condition number is large, 3.48e+03. This might indicate that there are\n",
      "strong multicollinearity or other numerical problems.\n"
     ]
    }
   ],
   "source": [
    "print(model_2021.summary())"
   ]
  },
  {
   "cell_type": "code",
   "execution_count": 28,
   "id": "00c7faf7",
   "metadata": {},
   "outputs": [],
   "source": [
    "# Now we apply the trained model to test data and generate predictions.\n",
    "# 🔮 Predict on test data\n",
    "y_pred = model_2021.predict(X_test_const)"
   ]
  },
  {
   "cell_type": "code",
   "execution_count": 29,
   "id": "9ba36983",
   "metadata": {},
   "outputs": [
    {
     "name": "stdout",
     "output_type": "stream",
     "text": [
      "RMSE: 242.02436017393717\n",
      "R-squared: -0.029479336264268907\n"
     ]
    }
   ],
   "source": [
    "# 📐 Calculate metrics\n",
    "\n",
    "## Mean Squared Error (MSE) between your model's predictions and the actual profits in the test set.\n",
    "## It measures how far off the predictions are, on average.\n",
    "mse = mean_squared_error(y_test, y_pred)\n",
    "rmse = np.sqrt(mse)\n",
    "print(\"RMSE:\", rmse)\n",
    "\n",
    "## Calculates the R-squared (R²) — the proportion of variance in actual profit that the model can explain.\n",
    "## R² = 1 → Perfect prediction\n",
    "## R² = 0 → Model is no better than guessing the average\n",
    "## R² < 0 → Model is worse than guessing the average 😬\n",
    "r2 = r2_score(y_test, y_pred)\n",
    "\n",
    "print(\"R-squared:\", r2)"
   ]
  },
  {
   "cell_type": "code",
   "execution_count": 30,
   "id": "837b3339",
   "metadata": {},
   "outputs": [
    {
     "name": "stdout",
     "output_type": "stream",
     "text": [
      "Training R²: -1.661365599009729\n",
      "Testing R²: -0.07742089153758469\n"
     ]
    }
   ],
   "source": [
    "# Training set performance\n",
    "y_train_pred = model.predict(sm.add_constant(X_train))\n",
    "r2_train = r2_score(y_train, y_train_pred)\n",
    "\n",
    "# Testing set performance\n",
    "y_test_pred = model.predict(sm.add_constant(X_test))\n",
    "r2_test = r2_score(y_test, y_test_pred)\n",
    "\n",
    "print(\"Training R²:\", r2_train)\n",
    "print(\"Testing R²:\", r2_test)"
   ]
  },
  {
   "cell_type": "code",
   "execution_count": 31,
   "id": "7c3b1c7c",
   "metadata": {},
   "outputs": [],
   "source": [
    "#| Scenario                      | What You See in R²               | Interpretation                 |\n",
    "#| ----------------------------- | -------------------------------- | ------------------------------ |\n",
    "#| 🔴 Low Train R², Low Test R²  | Both bad → Model is underfitting | Too simple                     |\n",
    "#| 🟠 High Train R², Low Test R² | Big drop → Model is overfitting  | Too complex / memorizing noise |\n",
    "#| 🟢 Balanced R² (Train ≈ Test) | Model generalizes well           | Just right 👍                  |"
   ]
  },
  {
   "cell_type": "code",
   "execution_count": 32,
   "id": "e7bde643",
   "metadata": {},
   "outputs": [],
   "source": [
    "# ➕ Add constant to full X_2021 to use the model for prediction on full data\n",
    "X_2021_const = sm.add_constant(X_2021)\n",
    "\n",
    "# 🔮 Predict profit for all firms in 2021 (including both train and test firms)\n",
    "df_2021['Predicted_Profit'] = model_2021.predict(X_2021_const)\n",
    "\n",
    "# 📤 Export the DataFrame with predictions to CSV\n",
    "df_2021.to_csv(\"Firm_2021_with_Predicted_Profit.csv\", index=False)"
   ]
  },
  {
   "cell_type": "code",
   "execution_count": 33,
   "id": "c0baffb0",
   "metadata": {},
   "outputs": [],
   "source": [
    "# 📊 Extract model summary (coefficients, p-values, etc.)\n",
    "summary_df = model_2021.summary2().tables[1]  # This gives you the table with coef, std err, p-values, etc.\n",
    "\n",
    "# 📁 Export both summary and full data (with predictions) to Excel\n",
    "with pd.ExcelWriter(\"OLS_Model_2021_Summary.xlsx\") as writer:\n",
    "    summary_df.to_excel(writer, sheet_name=\"Model Summary\")\n",
    "    df_2021.to_excel(writer, sheet_name=\"Data with Predictions\", index=False)"
   ]
  }
 ],
 "metadata": {
  "kernelspec": {
   "display_name": "Python 3 (ipykernel)",
   "language": "python",
   "name": "python3"
  },
  "language_info": {
   "codemirror_mode": {
    "name": "ipython",
    "version": 3
   },
   "file_extension": ".py",
   "mimetype": "text/x-python",
   "name": "python",
   "nbconvert_exporter": "python",
   "pygments_lexer": "ipython3",
   "version": "3.9.12"
  }
 },
 "nbformat": 4,
 "nbformat_minor": 5
}
