{
  "nbformat": 4,
  "nbformat_minor": 0,
  "metadata": {
    "colab": {
      "provenance": []
    },
    "kernelspec": {
      "name": "python3",
      "display_name": "Python 3"
    },
    "language_info": {
      "name": "python"
    }
  },
  "cells": [
    {
      "cell_type": "code",
      "source": [
        "# !pip install linearmodels # required only once"
      ],
      "metadata": {
        "colab": {
          "base_uri": "https://localhost:8080/"
        },
        "collapsed": true,
        "id": "Oznf2fFgaQ6h",
        "outputId": "2736bc98-68fc-4f50-89df-54cc8d4d19f1"
      },
      "execution_count": 5,
      "outputs": [
        {
          "output_type": "stream",
          "name": "stdout",
          "text": [
            "Requirement already satisfied: linearmodels in /usr/local/lib/python3.11/dist-packages (6.1)\n",
            "Requirement already satisfied: numpy<3,>=1.22.3 in /usr/local/lib/python3.11/dist-packages (from linearmodels) (2.0.2)\n",
            "Requirement already satisfied: pandas>=1.4.0 in /usr/local/lib/python3.11/dist-packages (from linearmodels) (2.2.2)\n",
            "Requirement already satisfied: scipy>=1.8.0 in /usr/local/lib/python3.11/dist-packages (from linearmodels) (1.15.3)\n",
            "Requirement already satisfied: statsmodels>=0.13.0 in /usr/local/lib/python3.11/dist-packages (from linearmodels) (0.14.4)\n",
            "Requirement already satisfied: mypy-extensions>=0.4 in /usr/local/lib/python3.11/dist-packages (from linearmodels) (1.1.0)\n",
            "Requirement already satisfied: Cython>=3.0.10 in /usr/local/lib/python3.11/dist-packages (from linearmodels) (3.0.12)\n",
            "Requirement already satisfied: pyhdfe>=0.1 in /usr/local/lib/python3.11/dist-packages (from linearmodels) (0.2.0)\n",
            "Requirement already satisfied: formulaic>=1.0.0 in /usr/local/lib/python3.11/dist-packages (from linearmodels) (1.1.1)\n",
            "Requirement already satisfied: setuptools-scm<9.0.0,>=8.0.0 in /usr/local/lib/python3.11/dist-packages (from setuptools-scm[toml]<9.0.0,>=8.0.0->linearmodels) (8.3.1)\n",
            "Requirement already satisfied: interface-meta>=1.2.0 in /usr/local/lib/python3.11/dist-packages (from formulaic>=1.0.0->linearmodels) (1.3.0)\n",
            "Requirement already satisfied: typing-extensions>=4.2.0 in /usr/local/lib/python3.11/dist-packages (from formulaic>=1.0.0->linearmodels) (4.13.2)\n",
            "Requirement already satisfied: wrapt>=1.0 in /usr/local/lib/python3.11/dist-packages (from formulaic>=1.0.0->linearmodels) (1.17.2)\n",
            "Requirement already satisfied: python-dateutil>=2.8.2 in /usr/local/lib/python3.11/dist-packages (from pandas>=1.4.0->linearmodels) (2.9.0.post0)\n",
            "Requirement already satisfied: pytz>=2020.1 in /usr/local/lib/python3.11/dist-packages (from pandas>=1.4.0->linearmodels) (2025.2)\n",
            "Requirement already satisfied: tzdata>=2022.7 in /usr/local/lib/python3.11/dist-packages (from pandas>=1.4.0->linearmodels) (2025.2)\n",
            "Requirement already satisfied: packaging>=20 in /usr/local/lib/python3.11/dist-packages (from setuptools-scm<9.0.0,>=8.0.0->setuptools-scm[toml]<9.0.0,>=8.0.0->linearmodels) (24.2)\n",
            "Requirement already satisfied: setuptools in /usr/local/lib/python3.11/dist-packages (from setuptools-scm<9.0.0,>=8.0.0->setuptools-scm[toml]<9.0.0,>=8.0.0->linearmodels) (75.2.0)\n",
            "Requirement already satisfied: patsy>=0.5.6 in /usr/local/lib/python3.11/dist-packages (from statsmodels>=0.13.0->linearmodels) (1.0.1)\n",
            "Requirement already satisfied: six>=1.5 in /usr/local/lib/python3.11/dist-packages (from python-dateutil>=2.8.2->pandas>=1.4.0->linearmodels) (1.17.0)\n"
          ]
        }
      ]
    },
    {
      "cell_type": "code",
      "source": [
        "import pandas as pd\n",
        "import numpy as np\n",
        "import statsmodels.api as sm\n",
        "import statsmodels.formula.api as smf\n",
        "from scipy import stats\n",
        "\n",
        "# ------------------------------\n",
        "# Step 1: Load Real Dataset\n",
        "# ------------------------------\n",
        "# Load dataset\n",
        "df = pd.read_csv(\"FirmLevel_PanelData_10K.csv\")\n",
        "\n",
        "# Convert to categorical\n",
        "df[\"FirmID\"] = df[\"FirmID\"].astype(\"category\")\n",
        "df[\"Year\"] = df[\"Year\"].astype(\"category\")\n",
        "\n",
        "# Create lag variable for dynamic panel model\n",
        "df[\"Profitability_Lag1\"] = df.groupby(\"FirmID\")[\"Profitability\"].shift(1)\n",
        "df.dropna(inplace=True)"
      ],
      "metadata": {
        "colab": {
          "base_uri": "https://localhost:8080/"
        },
        "id": "ZvIYvCIVZ_ef",
        "outputId": "9a0f7b0b-3765-478a-df48-da0abc3489bf"
      },
      "execution_count": 3,
      "outputs": [
        {
          "output_type": "stream",
          "name": "stderr",
          "text": [
            "<ipython-input-3-2cc721cb4f61>:18: FutureWarning: The default of observed=False is deprecated and will be changed to True in a future version of pandas. Pass observed=False to retain current behavior or observed=True to adopt the future default and silence this warning.\n",
            "  df[\"Profitability_Lag1\"] = df.groupby(\"FirmID\")[\"Profitability\"].shift(1)\n"
          ]
        }
      ]
    },
    {
      "cell_type": "code",
      "execution_count": 4,
      "metadata": {
        "colab": {
          "base_uri": "https://localhost:8080/"
        },
        "id": "_X8H1B8LZ2dy",
        "outputId": "643cc3a6-92d2-4b5b-86d8-6d330b102e0a"
      },
      "outputs": [
        {
          "output_type": "stream",
          "name": "stdout",
          "text": [
            "                        RandomEffects Estimation Summary                        \n",
            "================================================================================\n",
            "Dep. Variable:          Profitability   R-squared:                        0.9570\n",
            "Estimator:              RandomEffects   R-squared (Between):              0.9950\n",
            "No. Observations:                9000   R-squared (Within):               0.0782\n",
            "Date:                Thu, May 29 2025   R-squared (Overall):              0.9869\n",
            "Time:                        19:02:12   Log-likelihood                   -6627.8\n",
            "Cov. Estimator:            Unadjusted                                           \n",
            "                                        F-statistic:                   5.002e+04\n",
            "Entities:                        1000   P-value                           0.0000\n",
            "Avg Obs:                       9.0000   Distribution:                  F(4,8996)\n",
            "Min Obs:                       9.0000                                           \n",
            "Max Obs:                       9.0000   F-statistic (robust):          5.002e+04\n",
            "                                        P-value                           0.0000\n",
            "Time periods:                       9   Distribution:                  F(4,8996)\n",
            "Avg Obs:                      1000.00                                           \n",
            "Min Obs:                      1000.00                                           \n",
            "Max Obs:                      1000.00                                           \n",
            "                                                                                \n",
            "                                 Parameter Estimates                                  \n",
            "======================================================================================\n",
            "                    Parameter  Std. Err.     T-stat    P-value    Lower CI    Upper CI\n",
            "--------------------------------------------------------------------------------------\n",
            "RND_Expenses           0.5420     0.0181     29.940     0.0000      0.5065      0.5775\n",
            "Advertising_Spends     0.3054     0.0134     22.835     0.0000      0.2791      0.3316\n",
            "Debt_Equity_Ratio     -0.3533     0.0318    -11.124     0.0000     -0.4156     -0.2910\n",
            "Firm_Size              0.2750     0.0033     82.941     0.0000      0.2685      0.2815\n",
            "======================================================================================\n"
          ]
        },
        {
          "output_type": "stream",
          "name": "stderr",
          "text": [
            "/usr/local/lib/python3.11/dist-packages/linearmodels/panel/data.py:599: FutureWarning: The default of observed=False is deprecated and will be changed to True in a future version of pandas. Pass observed=False to retain current behavior or observed=True to adopt the future default and silence this warning.\n",
            "  weighted_sum: DataFrame = frame.groupby(level=level).transform(\"sum\")\n",
            "/usr/local/lib/python3.11/dist-packages/linearmodels/panel/data.py:601: FutureWarning: The default of observed=False is deprecated and will be changed to True in a future version of pandas. Pass observed=False to retain current behavior or observed=True to adopt the future default and silence this warning.\n",
            "  sum_weights: DataFrame = frame.groupby(level=level).transform(\"sum\")\n",
            "/usr/local/lib/python3.11/dist-packages/linearmodels/panel/data.py:599: FutureWarning: The default of observed=False is deprecated and will be changed to True in a future version of pandas. Pass observed=False to retain current behavior or observed=True to adopt the future default and silence this warning.\n",
            "  weighted_sum: DataFrame = frame.groupby(level=level).transform(\"sum\")\n",
            "/usr/local/lib/python3.11/dist-packages/linearmodels/panel/data.py:601: FutureWarning: The default of observed=False is deprecated and will be changed to True in a future version of pandas. Pass observed=False to retain current behavior or observed=True to adopt the future default and silence this warning.\n",
            "  sum_weights: DataFrame = frame.groupby(level=level).transform(\"sum\")\n",
            "/usr/local/lib/python3.11/dist-packages/linearmodels/panel/data.py:685: FutureWarning: The default of observed=False is deprecated and will be changed to True in a future version of pandas. Pass observed=False to retain current behavior or observed=True to adopt the future default and silence this warning.\n",
            "  weighted_sum = frame.groupby(level=level).sum()\n",
            "/usr/local/lib/python3.11/dist-packages/linearmodels/panel/data.py:687: FutureWarning: The default of observed=False is deprecated and will be changed to True in a future version of pandas. Pass observed=False to retain current behavior or observed=True to adopt the future default and silence this warning.\n",
            "  sum_weights = frame.groupby(level=level).sum()\n",
            "/usr/local/lib/python3.11/dist-packages/linearmodels/panel/data.py:640: FutureWarning: The default of observed=False is deprecated and will be changed to True in a future version of pandas. Pass observed=False to retain current behavior or observed=True to adopt the future default and silence this warning.\n",
            "  out = self._frame.groupby(level=level).count()\n",
            "/usr/local/lib/python3.11/dist-packages/linearmodels/panel/data.py:680: FutureWarning: The default of observed=False is deprecated and will be changed to True in a future version of pandas. Pass observed=False to retain current behavior or observed=True to adopt the future default and silence this warning.\n",
            "  mu = self._frame.groupby(level=level).mean()\n",
            "/usr/local/lib/python3.11/dist-packages/linearmodels/panel/data.py:590: FutureWarning: The default of observed=False is deprecated and will be changed to True in a future version of pandas. Pass observed=False to retain current behavior or observed=True to adopt the future default and silence this warning.\n",
            "  group_mu = self._frame.groupby(level=level).transform(\"mean\")\n"
          ]
        }
      ],
      "source": [
        "# Step 2 for Using linearmodels.RandomEffects\n",
        "import pandas as pd\n",
        "from linearmodels.panel import RandomEffects\n",
        "\n",
        "# Assuming df has 'FirmID' and 'Year' columns\n",
        "df[\"Year\"] = df[\"Year\"].astype(int)  # Make sure Year is numeric\n",
        "df = df.set_index([\"FirmID\", \"Year\"])\n",
        "\n",
        "# Define the model (drop missing values if necessary)\n",
        "exog_vars = [\"RND_Expenses\", \"Advertising_Spends\", \"Debt_Equity_Ratio\", \"Firm_Size\"]\n",
        "exog = df[exog_vars]\n",
        "endog = df[\"Profitability\"]\n",
        "\n",
        "model_re = RandomEffects(endog, exog)\n",
        "re_results = model_re.fit()\n",
        "print(re_results.summary)"
      ]
    },
    {
      "cell_type": "code",
      "source": [
        "from linearmodels.panel import PanelOLS\n",
        "import pandas as pd\n",
        "\n",
        "# Load your dataset\n",
        "df = pd.read_csv(\"FirmLevel_PanelData_10K.csv\")\n",
        "\n",
        "# Convert year to integer\n",
        "df[\"Year\"] = df[\"Year\"].astype(int)\n",
        "\n",
        "# Set panel structure index (entity and time)\n",
        "df = df.set_index([\"FirmID\", \"Year\"])\n",
        "\n",
        "# Dependent variable\n",
        "y = df[\"Profitability\"]\n",
        "\n",
        "# Independent variables\n",
        "X = df[[\"RND_Expenses\", \"Advertising_Spends\", \"Debt_Equity_Ratio\", \"Firm_Size\"]]\n",
        "\n",
        "# Optional: add constant term\n",
        "from statsmodels.tools.tools import add_constant\n",
        "X = add_constant(X)\n",
        "\n",
        "# Estimate the Fixed Effects model\n",
        "model_fe = PanelOLS(y, X, entity_effects=True)\n",
        "results_fe = model_fe.fit()\n",
        "print(results_fe.summary)"
      ],
      "metadata": {
        "colab": {
          "base_uri": "https://localhost:8080/"
        },
        "id": "kRRdudE2Z7i6",
        "outputId": "8dbd952f-cac0-4e73-c838-13fce1f3f2a2"
      },
      "execution_count": 7,
      "outputs": [
        {
          "output_type": "stream",
          "name": "stdout",
          "text": [
            "                          PanelOLS Estimation Summary                           \n",
            "================================================================================\n",
            "Dep. Variable:          Profitability   R-squared:                        0.0826\n",
            "Estimator:                   PanelOLS   R-squared (Between):              0.5471\n",
            "No. Observations:               10000   R-squared (Within):               0.0826\n",
            "Date:                Thu, May 29 2025   R-squared (Overall):              0.3301\n",
            "Time:                        19:07:31   Log-likelihood                   -6834.2\n",
            "Cov. Estimator:            Unadjusted                                           \n",
            "                                        F-statistic:                      202.49\n",
            "Entities:                        1000   P-value                           0.0000\n",
            "Avg Obs:                      10.0000   Distribution:                  F(4,8996)\n",
            "Min Obs:                      10.0000                                           \n",
            "Max Obs:                      10.0000   F-statistic (robust):             202.49\n",
            "                                        P-value                           0.0000\n",
            "Time periods:                      10   Distribution:                  F(4,8996)\n",
            "Avg Obs:                      1000.00                                           \n",
            "Min Obs:                      1000.00                                           \n",
            "Max Obs:                      1000.00                                           \n",
            "                                                                                \n",
            "                                 Parameter Estimates                                  \n",
            "======================================================================================\n",
            "                    Parameter  Std. Err.     T-stat    P-value    Lower CI    Upper CI\n",
            "--------------------------------------------------------------------------------------\n",
            "const                  0.5317     0.4062     1.3090     0.1906     -0.2645      1.3280\n",
            "RND_Expenses           0.5392     0.0270     20.003     0.0000      0.4863      0.5920\n",
            "Advertising_Spends     0.2879     0.0177     16.261     0.0000      0.2532      0.3226\n",
            "Debt_Equity_Ratio     -0.3930     0.0529    -7.4300     0.0000     -0.4967     -0.2893\n",
            "Firm_Size              0.2453     0.0266     9.2354     0.0000      0.1932      0.2974\n",
            "======================================================================================\n",
            "\n",
            "F-test for Poolability: 5.0065\n",
            "P-value: 0.0000\n",
            "Distribution: F(999,8996)\n",
            "\n",
            "Included effects: Entity\n"
          ]
        }
      ]
    },
    {
      "cell_type": "code",
      "source": [
        "# Refit if needed\n",
        "fe_res = PanelOLS(y, X, entity_effects=True).fit()\n",
        "re_res = RandomEffects(y, X).fit()\n",
        "\n",
        "# Extract parameter estimates\n",
        "b_fe = fe_res.params\n",
        "b_re = re_res.params\n",
        "\n",
        "# Align coefficients for comparison (excluding intercept if needed)\n",
        "common_coef = b_fe.index.intersection(b_re.index)\n",
        "diff = b_fe[common_coef] - b_re[common_coef]\n",
        "cov_diff = fe_res.cov.loc[common_coef, common_coef] - re_res.cov.loc[common_coef, common_coef]\n",
        "\n",
        "# Hausman test statistic\n",
        "import numpy as np\n",
        "from scipy.stats import chi2\n",
        "\n",
        "hausman_stat = float(diff.T @ np.linalg.inv(cov_diff) @ diff)\n",
        "df_h = len(diff)\n",
        "p_value = 1 - chi2.cdf(hausman_stat, df_h)\n",
        "\n",
        "# Print results\n",
        "print(f\"\\n🔍 Hausman Test Results:\")\n",
        "print(f\"Chi-Square Statistic: {hausman_stat:.4f}\")\n",
        "print(f\"Degrees of Freedom: {df_h}\")\n",
        "print(f\"P-Value: {p_value:.4f}\")\n",
        "\n",
        "if p_value < 0.05:\n",
        "    print(\"✅ Reject null: Fixed Effects preferred (correlation with firm effects exists)\")\n",
        "else:\n",
        "    print(\"✅ Fail to reject null: Random Effects is efficient and consistent\")"
      ],
      "metadata": {
        "colab": {
          "base_uri": "https://localhost:8080/"
        },
        "id": "VI5i8rT_cBMM",
        "outputId": "6b2248d5-d0e7-4c07-c9a2-28010414cca4"
      },
      "execution_count": 9,
      "outputs": [
        {
          "output_type": "stream",
          "name": "stdout",
          "text": [
            "\n",
            "🔍 Hausman Test Results:\n",
            "Chi-Square Statistic: 2.5307\n",
            "Degrees of Freedom: 5\n",
            "P-Value: 0.7719\n",
            "✅ Fail to reject null: Random Effects is efficient and consistent\n"
          ]
        }
      ]
    },
    {
      "cell_type": "code",
      "source": [
        "from statsmodels.stats.outliers_influence import variance_inflation_factor\n",
        "\n",
        "# For VIF, use non-indexed DataFrame\n",
        "from statsmodels.api import add_constant\n",
        "X_vif = add_constant(df.reset_index()[[\"RND_Expenses\", \"Advertising_Spends\", \"Debt_Equity_Ratio\", \"Firm_Size\"]])\n",
        "\n",
        "print(\"\\n📌 VIF Scores:\")\n",
        "for i, var in enumerate(X_vif.columns):\n",
        "    vif = variance_inflation_factor(X_vif.values, i)\n",
        "    print(f\"{var}: {vif:.2f}\")"
      ],
      "metadata": {
        "colab": {
          "base_uri": "https://localhost:8080/"
        },
        "id": "qXpIAnTdc7gB",
        "outputId": "84bbba5b-4b59-4516-d74c-19c3bcf5c2a3"
      },
      "execution_count": 10,
      "outputs": [
        {
          "output_type": "stream",
          "name": "stdout",
          "text": [
            "\n",
            "📌 VIF Scores:\n",
            "const: 234.38\n",
            "RND_Expenses: 1.00\n",
            "Advertising_Spends: 1.00\n",
            "Debt_Equity_Ratio: 1.00\n",
            "Firm_Size: 1.00\n"
          ]
        }
      ]
    },
    {
      "cell_type": "code",
      "source": [
        "from statsmodels.stats.diagnostic import het_white\n",
        "import statsmodels.api as sm\n",
        "\n",
        "# Drop constant if previously added, then re-add explicitly\n",
        "exog = X.drop(columns='const', errors='ignore')\n",
        "exog_with_const = sm.add_constant(exog)\n",
        "\n",
        "# Run White test\n",
        "white_test = het_white(resid, exog_with_const)\n",
        "labels = [\"LM Stat\", \"LM p-value\", \"F-stat\", \"F p-value\"]\n",
        "\n",
        "# Display results\n",
        "print(\"\\n⚠️ Heteroskedasticity (White Test):\")\n",
        "for name, val in zip(labels, white_test):\n",
        "    print(f\"{name}: {val:.4f}\")"
      ],
      "metadata": {
        "colab": {
          "base_uri": "https://localhost:8080/"
        },
        "id": "OsNYxiK_dYvk",
        "outputId": "f0364204-ee7e-47ab-cb7f-2b56442ba6ac"
      },
      "execution_count": 13,
      "outputs": [
        {
          "output_type": "stream",
          "name": "stdout",
          "text": [
            "\n",
            "⚠️ Heteroskedasticity (White Test):\n",
            "LM Stat: 20.1174\n",
            "LM p-value: 0.1265\n",
            "F-stat: 1.4377\n",
            "F p-value: 0.1264\n"
          ]
        }
      ]
    },
    {
      "cell_type": "code",
      "source": [],
      "metadata": {
        "id": "psPxP0siddb_"
      },
      "execution_count": null,
      "outputs": []
    }
  ]
}